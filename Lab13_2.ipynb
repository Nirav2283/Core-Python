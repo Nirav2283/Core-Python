{
 "cells": [
  {
   "cell_type": "markdown",
   "metadata": {},
   "source": [
    "<a href='https://www.darshan.ac.in/'> <img src='https://www.darshan.ac.in/Content/media/DU_Logo.svg' width=\"250\" height=\"300\"/></a>\n",
    "<pre>\n",
    "<center><b><h1>Python Programming - 2301CS404</b></center>\n",
    "<center><b><h1>Lab - 13_2</b></center> \n",
    "<center><b><h1>Nirav Vaghasia | 23010101286 | CSE-4B (B1-315)</b></center>\n",
    "<pre>"
   ]
  },
  {
   "cell_type": "markdown",
   "metadata": {},
   "source": [
    "## Continued.."
   ]
  },
  {
   "cell_type": "markdown",
   "metadata": {},
   "source": [
    "### 10) Calculate area of a ractangle using object as an argument to a method."
   ]
  },
  {
   "cell_type": "code",
   "execution_count": 8,
   "metadata": {},
   "outputs": [
    {
     "name": "stdout",
     "output_type": "stream",
     "text": [
      "Area of Rectangle: 50\n"
     ]
    }
   ],
   "source": [
    "class Rectangle:\n",
    "    def __init__(self,a,b):\n",
    "        self.a = a\n",
    "        self.b = b\n",
    "    def Area(self,obj):\n",
    "        print(\"Area of Rectangle:\",obj.a * obj.b)\n",
    "a1 = Rectangle(5,10)\n",
    "a1.Area(a1)"
   ]
  },
  {
   "cell_type": "markdown",
   "metadata": {},
   "source": [
    "### 11) Calculate the area of a square. \n",
    "### Include a Constructor, a method to calculate area named area() and a method named output() that prints the output and is invoked by area()."
   ]
  },
  {
   "cell_type": "code",
   "execution_count": 12,
   "metadata": {},
   "outputs": [
    {
     "name": "stdout",
     "output_type": "stream",
     "text": [
      "Area of the square:  225\n"
     ]
    }
   ],
   "source": [
    "class Square:\n",
    "    def __init__(self , a):\n",
    "        self.a = a\n",
    "\n",
    "    def Area(self):\n",
    "        self.area = self.a ** 2\n",
    "        self.output()\n",
    "        \n",
    "\n",
    "    def output(self):\n",
    "        print(\"Area of the square: \" , self.area)\n",
    "\n",
    "\n",
    "s1 = Square(15)\n",
    "s1.Area()\n",
    "        \n",
    "        "
   ]
  },
  {
   "cell_type": "markdown",
   "metadata": {},
   "source": [
    "### 12) Calculate the area of a rectangle. \n",
    "### Include a Constructor, a method to calculate area named area() and a method named output() that prints the output and is invoked by area().\n",
    "### Also define a class method that compares the two sides of reactangle. An object is instantiated only if the two sides are different; otherwise a message should be displayed : THIS IS SQUARE."
   ]
  },
  {
   "cell_type": "code",
   "execution_count": 19,
   "metadata": {},
   "outputs": [
    {
     "name": "stdout",
     "output_type": "stream",
     "text": [
      "THIS IS SQUARE\n",
      "Area of rectangle:  50\n"
     ]
    }
   ],
   "source": [
    "class Rectangle:\n",
    "    def __init__(self , a , b):\n",
    "        self.a  = a\n",
    "        self.b = b\n",
    "\n",
    "    def area(self):\n",
    "        self.area = self.a * self.b\n",
    "\n",
    "    def output(self):\n",
    "        print(\"Area of rectangle: \" , self.area)\n",
    "\n",
    "\n",
    "    @classmethod\n",
    "    def compare_rectangle(cls , a , b):\n",
    "        if(a == b):\n",
    "            print(\"THIS IS SQUARE\")\n",
    "            return None\n",
    "        else:\n",
    "            r1 = Rectangle(10,5)\n",
    "            r1.area()\n",
    "            r1.output()\n",
    "\n",
    "\n",
    "Rectangle.compare_rectangle(5,5)\n",
    "Rectangle.compare_rectangle(10,5)\n"
   ]
  },
  {
   "cell_type": "markdown",
   "metadata": {},
   "source": [
    "### 13) Define a class Square having a private attribute \"side\". \n",
    "### Implement get_side and set_side methods to accees the private attribute from outside of the class."
   ]
  },
  {
   "cell_type": "code",
   "execution_count": 33,
   "metadata": {},
   "outputs": [
    {
     "name": "stdout",
     "output_type": "stream",
     "text": [
      "10\n",
      "20\n"
     ]
    }
   ],
   "source": [
    "class Square():\n",
    "\n",
    "    def get_side(self):\n",
    "        print(self.__side)\n",
    "\n",
    "    def set_side(self , a):\n",
    "        self.__side = a\n",
    "\n",
    "    \n",
    "s1 = Square()\n",
    "s1.set_side(10)\n",
    "s1.get_side()\n",
    "s1.set_side(20)\n",
    "s1.get_side()"
   ]
  },
  {
   "cell_type": "markdown",
   "metadata": {},
   "source": [
    "### 14) Create a class Profit that has a method named getProfit that accepts profit from the user.\n",
    "### Create a class Loss that has a method named getLoss that accepts loss from the user.\n",
    "### Create a class BalanceSheet that inherits from both classes Profit and Loss and calculates the balanace. It has two methods getBalance() and printBalance()."
   ]
  },
  {
   "cell_type": "code",
   "execution_count": 1,
   "metadata": {},
   "outputs": [
    {
     "name": "stdin",
     "output_type": "stream",
     "text": [
      "Enter the profit amount:  10000\n",
      "Enter the loss amount:  5000\n"
     ]
    },
    {
     "name": "stdout",
     "output_type": "stream",
     "text": [
      "Balance: 5000.0\n"
     ]
    }
   ],
   "source": [
    "class Profit:\n",
    "    def getProfit(self):\n",
    "        self.profit = float(input(\"Enter the profit amount: \"))\n",
    "\n",
    "class Loss:\n",
    "    def getLoss(self):\n",
    "        self.loss = float(input(\"Enter the loss amount: \"))\n",
    "\n",
    "class BalanceSheet(Profit, Loss):\n",
    "    def getBalance(self):\n",
    "        self.balance = self.profit - self.loss\n",
    "\n",
    "    def printBalance(self):\n",
    "        print(f\"Balance: {self.balance}\")\n",
    "\n",
    "\n",
    "balance_sheet = BalanceSheet()\n",
    "\n",
    "\n",
    "balance_sheet.getProfit()\n",
    "balance_sheet.getLoss()\n",
    "\n",
    "\n",
    "balance_sheet.getBalance()\n",
    "balance_sheet.printBalance()\n"
   ]
  },
  {
   "attachments": {},
   "cell_type": "markdown",
   "metadata": {},
   "source": [
    "### 15) WAP to demonstrate all types of inheritance."
   ]
  },
  {
   "cell_type": "code",
   "execution_count": 2,
   "metadata": {},
   "outputs": [
    {
     "name": "stdout",
     "output_type": "stream",
     "text": [
      "This is the Parent class\n",
      "This is the Father class\n",
      "This is the Mother class\n",
      "This is the Grandparent class\n",
      "This is the Parent class\n",
      "This is the Parent class\n",
      "This is the Parent class\n",
      "This is the Father class\n",
      "This is the Mother class\n",
      "This is the Father class\n"
     ]
    }
   ],
   "source": [
    "#SINGLE INHERITANCE\n",
    "class Parent:\n",
    "    def show(self):\n",
    "        print(\"This is the Parent class\")\n",
    "\n",
    "class Child(Parent):\n",
    "    pass\n",
    "\n",
    "single_inheritance = Child()\n",
    "single_inheritance.show() \n",
    "\n",
    "# Multiple Inheritance\n",
    "class Father:\n",
    "    def show_father(self):\n",
    "        print(\"This is the Father class\")\n",
    "\n",
    "class Mother:\n",
    "    def show_mother(self):\n",
    "        print(\"This is the Mother class\")\n",
    "\n",
    "class Child(Father, Mother):\n",
    "    pass\n",
    "\n",
    "multiple_inheritance = Child()\n",
    "multiple_inheritance.show_father()  \n",
    "multiple_inheritance.show_mother() \n",
    "\n",
    "\n",
    "\n",
    "class Grandparent:\n",
    "    def show_grandparent(self):\n",
    "        print(\"This is the Grandparent class\")\n",
    "\n",
    "class Parent(Grandparent):\n",
    "    def show_parent(self):\n",
    "        print(\"This is the Parent class\")\n",
    "\n",
    "class Child(Parent):\n",
    "    pass\n",
    "\n",
    "# Multilevel inheritance example\n",
    "multilevel_inheritance = Child()\n",
    "multilevel_inheritance.show_grandparent() \n",
    "multilevel_inheritance.show_parent()      \n",
    "\n",
    "\n",
    "\n",
    "# Hierarchical Inheritance\n",
    "class Parent:\n",
    "    def show(self):\n",
    "        print(\"This is the Parent class\")\n",
    "\n",
    "class Child1(Parent):\n",
    "    pass\n",
    "\n",
    "class Child2(Parent):\n",
    "    pass\n",
    "\n",
    "\n",
    "hierarchical_inheritance1 = Child1()\n",
    "hierarchical_inheritance2 = Child2()\n",
    "hierarchical_inheritance1.show()  \n",
    "hierarchical_inheritance2.show()  \n",
    "\n",
    "\n",
    "\n",
    "# Hybrid Inheritance\n",
    "class Father:\n",
    "    def show_father(self):\n",
    "        print(\"This is the Father class\")\n",
    "\n",
    "class Mother:\n",
    "    def show_mother(self):\n",
    "        print(\"This is the Mother class\")\n",
    "\n",
    "class Child1(Father, Mother):\n",
    "    pass\n",
    "\n",
    "class Child2(Father):\n",
    "    pass\n",
    "\n",
    "hybrid_inheritance1 = Child1()\n",
    "hybrid_inheritance2 = Child2()\n",
    "hybrid_inheritance1.show_father()  \n",
    "hybrid_inheritance1.show_mother() \n",
    "hybrid_inheritance2.show_father()  \n",
    "\n",
    "\n",
    "\n"
   ]
  },
  {
   "cell_type": "markdown",
   "metadata": {},
   "source": [
    "### 16) Create a Person class with a constructor that takes two arguments name and age. \n",
    "### Create a child class Employee that inherits from Person and adds a new attribute salary. \n",
    "### Override the __init__ method in Employee to call the parent class's __init__ method using the super() and then initialize the salary attribute."
   ]
  },
  {
   "cell_type": "code",
   "execution_count": 3,
   "metadata": {},
   "outputs": [
    {
     "name": "stdout",
     "output_type": "stream",
     "text": [
      "Name: John Doe, Age: 30, Salary: 50000\n"
     ]
    }
   ],
   "source": [
    "class Person:\n",
    "    def __init__(self, name, age):\n",
    "        self.name = name\n",
    "        self.age = age\n",
    "\n",
    "class Employee(Person):\n",
    "    def __init__(self, name, age, salary):\n",
    "        super().__init__(name, age)\n",
    "        self.salary = salary\n",
    "\n",
    "    def display_employee_details(self):\n",
    "        print(f\"Name: {self.name}, Age: {self.age}, Salary: {self.salary}\")\n",
    "\n",
    "employee = Employee(\"John Doe\", 30, 50000)\n",
    "employee.display_employee_details()\n"
   ]
  },
  {
   "cell_type": "markdown",
   "metadata": {},
   "source": [
    "### 17) Create a Shape class with a draw method that is not implemented. \n",
    "### Create three child classes Rectangle, Circle, and Triangle that implement the draw method with their respective drawing behaviors. \n",
    "### Create a list of Shape objects that includes one instance of each child class, and then iterate through the list and call the draw method on each object."
   ]
  },
  {
   "cell_type": "code",
   "execution_count": 6,
   "metadata": {},
   "outputs": [
    {
     "name": "stdout",
     "output_type": "stream",
     "text": [
      "Drawing a Rectangle\n",
      "Drawing a Circle\n",
      "Drawing a Triangle\n"
     ]
    }
   ],
   "source": [
    "from abc import ABC, abstractmethod\n",
    "\n",
    "class Shape(ABC):\n",
    "    @abstractmethod\n",
    "    def draw(self):\n",
    "        pass\n",
    "class Rectangle(Shape):\n",
    "    def draw(self):\n",
    "        print(\"Drawing a Rectangle\")\n",
    "\n",
    "\n",
    "class Circle(Shape):\n",
    "    def draw(self):\n",
    "        print(\"Drawing a Circle\")\n",
    "\n",
    "\n",
    "class Triangle(Shape):\n",
    "    def draw(self):\n",
    "        print(\"Drawing a Triangle\")\n",
    "\n",
    "\n",
    "shapes = [Rectangle(), Circle(), Triangle()]\n",
    "\n",
    "for shape in shapes:\n",
    "    shape.draw()\n"
   ]
  }
 ],
 "metadata": {
  "kernelspec": {
   "display_name": "Python 3 (ipykernel)",
   "language": "python",
   "name": "python3"
  },
  "language_info": {
   "codemirror_mode": {
    "name": "ipython",
    "version": 3
   },
   "file_extension": ".py",
   "mimetype": "text/x-python",
   "name": "python",
   "nbconvert_exporter": "python",
   "pygments_lexer": "ipython3",
   "version": "3.13.0"
  }
 },
 "nbformat": 4,
 "nbformat_minor": 4
}
