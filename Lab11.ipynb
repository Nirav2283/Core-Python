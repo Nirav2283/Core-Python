{
 "cells": [
  {
   "attachments": {},
   "cell_type": "markdown",
   "metadata": {},
   "source": [
    "<a href='https://www.darshan.ac.in/'> <img src='https://www.darshan.ac.in/Content/media/DU_Logo.svg' width=\"250\" height=\"300\"/></a>\n",
    "<pre>\n",
    "<center><b><h1>Python Programming - 2301CS404</b></center>\n",
    "<center><b><h1>Lab - 11</b></center> \n",
    "<center><b><h1>Nirav Vaghasia | 23010101286 | CSE - 4B (B1 - 315)</b></center> \n",
    "<pre>"
   ]
  },
  {
   "cell_type": "markdown",
   "metadata": {},
   "source": [
    "# Modules"
   ]
  },
  {
   "cell_type": "markdown",
   "metadata": {},
   "source": [
    "### 01) WAP to create Calculator module which defines functions like add, sub,mul and div. \n",
    "### Create another .py file that uses the functions available in Calculator module."
   ]
  },
  {
   "cell_type": "code",
   "execution_count": 8,
   "metadata": {},
   "outputs": [
    {
     "name": "stdout",
     "output_type": "stream",
     "text": [
      "1. Add\n",
      "2. Multiply\n",
      "3. Divison\n",
      "4. Substraction\n"
     ]
    },
    {
     "name": "stdout",
     "output_type": "stream",
     "text": [
      "Enter a First Number:  1\n",
      "Enter a second Number:  2\n",
      "Enter a choice:  2\n"
     ]
    },
    {
     "name": "stdout",
     "output_type": "stream",
     "text": [
      "Multiplication is:  2.0\n"
     ]
    }
   ],
   "source": [
    "import calculator\n",
    "\n",
    "print('1. Add')\n",
    "print('2. Multiply')\n",
    "print('3. Divison')\n",
    "print('4. Substraction')\n",
    "\n",
    "a = float(input(\"Enter a First Number: \"))\n",
    "b = float(input(\"Enter a second Number: \"))\n",
    "choice = int(input(\"Enter a choice: \"))\n",
    "\n",
    "match choice:\n",
    "    case 1:\n",
    "        print(\"Addition is: \" , calculator.add(a,b))\n",
    "    case 2:\n",
    "        print(\"Multiplication is: \" , calculator.mul(a,b))\n",
    "    case 3:\n",
    "        print(\"Division is: \" , calculator.div(a,b))\n",
    "    case 4:\n",
    "        print(\"Substarction is: \" , calculator.sub(a,b))\n",
    "    case _:\n",
    "        print(\"Invalid choice!\")"
   ]
  },
  {
   "cell_type": "markdown",
   "metadata": {},
   "source": [
    "### 02) WAP to pick a random character from a given String."
   ]
  },
  {
   "cell_type": "code",
   "execution_count": 9,
   "metadata": {},
   "outputs": [
    {
     "name": "stdout",
     "output_type": "stream",
     "text": [
      "v\n"
     ]
    }
   ],
   "source": [
    "import random as r\n",
    "s = \"Nirav\"\n",
    "t = r.choice(s)\n",
    "print(t)"
   ]
  },
  {
   "cell_type": "markdown",
   "metadata": {},
   "source": [
    "### 03) WAP to pick a random element from a given list."
   ]
  },
  {
   "cell_type": "code",
   "execution_count": 36,
   "metadata": {},
   "outputs": [
    {
     "name": "stdout",
     "output_type": "stream",
     "text": [
      "10\n"
     ]
    }
   ],
   "source": [
    "import random as r\n",
    "l = [10,20,30,40,50]\n",
    "t = r.choice(l)\n",
    "print(t)"
   ]
  },
  {
   "cell_type": "markdown",
   "metadata": {},
   "source": [
    "### 04) WAP to roll a dice in such a way that every time you get the same number."
   ]
  },
  {
   "cell_type": "code",
   "execution_count": 120,
   "metadata": {},
   "outputs": [
    {
     "name": "stdout",
     "output_type": "stream",
     "text": [
      "2\n"
     ]
    }
   ],
   "source": [
    "import random as r\n",
    "dice = [1,2,3,4,5,6]\n",
    "r.seed(1)\n",
    "t = r.choice(dice)\n",
    "print(t)"
   ]
  },
  {
   "cell_type": "markdown",
   "metadata": {},
   "source": [
    "### 05) WAP to generate 3 random integers between 100 and 999 which is divisible by 5."
   ]
  },
  {
   "cell_type": "code",
   "execution_count": 177,
   "metadata": {},
   "outputs": [
    {
     "name": "stdout",
     "output_type": "stream",
     "text": [
      "895\n",
      "335\n",
      "540\n"
     ]
    }
   ],
   "source": [
    "import random as r\n",
    "for i in range(3):\n",
    "    n = r.randrange(100 , 999 , 5)\n",
    "    print(n)"
   ]
  },
  {
   "cell_type": "markdown",
   "metadata": {},
   "source": [
    "### 06) WAP to generate 100 random lottery tickets and pick two lucky tickets from it and announce them as Winner and Runner up respectively."
   ]
  },
  {
   "cell_type": "code",
   "execution_count": 213,
   "metadata": {
    "scrolled": true
   },
   "outputs": [
    {
     "name": "stdout",
     "output_type": "stream",
     "text": [
      "Winner is:  14\n",
      "Runner up:  72\n"
     ]
    }
   ],
   "source": [
    "import random as r\n",
    "ticket = []\n",
    "while (len(ticket) < 100):\n",
    "    num = r.randint(1,100)\n",
    "    ticket.append(num)\n",
    "\n",
    "t = r.choice(ticket)\n",
    "k = r.choice(ticket)\n",
    "print(\"Winner is: \" , ticket[0])\n",
    "print(\"Runner up: \" , ticket[1])\n",
    "# print(ticket)\n"
   ]
  },
  {
   "cell_type": "markdown",
   "metadata": {},
   "source": [
    "### 07) WAP to print current date and time in Python."
   ]
  },
  {
   "cell_type": "code",
   "execution_count": 194,
   "metadata": {},
   "outputs": [
    {
     "name": "stdout",
     "output_type": "stream",
     "text": [
      "2025-02-18 10:51:57.784133\n"
     ]
    }
   ],
   "source": [
    "import datetime as dt\n",
    "today = dt.datetime.now()\n",
    "print(today)"
   ]
  },
  {
   "cell_type": "markdown",
   "metadata": {},
   "source": [
    "### 08) Subtract a week (7 days) from a given date in Python."
   ]
  },
  {
   "cell_type": "code",
   "execution_count": 198,
   "metadata": {},
   "outputs": [
    {
     "name": "stdout",
     "output_type": "stream",
     "text": [
      "2025-02-11 10:53:05.958266\n"
     ]
    }
   ],
   "source": [
    "import datetime as dt\n",
    "today = dt.datetime.now()\n",
    "newdate = today - dt.timedelta(days = 7)\n",
    "print(newdate)"
   ]
  },
  {
   "cell_type": "markdown",
   "metadata": {},
   "source": [
    "### 09) WAP to Calculate number of days between two given dates."
   ]
  },
  {
   "cell_type": "code",
   "execution_count": 201,
   "metadata": {},
   "outputs": [
    {
     "name": "stdout",
     "output_type": "stream",
     "text": [
      "10 days, 0:00:00\n"
     ]
    }
   ],
   "source": [
    "import datetime as dt\n",
    "date1 = dt.date(2025,2,10)\n",
    "date2 = dt.date(2025,2,20)\n",
    "\n",
    "datediff = date2 - date1\n",
    "print(datediff)"
   ]
  },
  {
   "cell_type": "markdown",
   "metadata": {},
   "source": [
    "### 10) WAP to Find the day of the week of a given date.(i.e. wether it is sunday/monday/tuesday/etc.)"
   ]
  },
  {
   "cell_type": "code",
   "execution_count": 9,
   "metadata": {},
   "outputs": [
    {
     "name": "stdout",
     "output_type": "stream",
     "text": [
      "Wednesday AM\n"
     ]
    }
   ],
   "source": [
    "import datetime as dt\n",
    "today = dt.datetime.now()\n",
    "\n",
    "day = today.strftime('%A %p')\n",
    "print(day)"
   ]
  },
  {
   "cell_type": "markdown",
   "metadata": {},
   "source": [
    "### 11) WAP to demonstrate the use of date time module."
   ]
  },
  {
   "cell_type": "code",
   "execution_count": 1,
   "metadata": {},
   "outputs": [
    {
     "name": "stdout",
     "output_type": "stream",
     "text": [
      "Current Date and Time: 2025-03-12 18:01:13.359407\n",
      "Current Date: 2025-03-12\n",
      "Specific Date: 2022-12-25\n",
      "Current Time: 18:01:13.359720\n",
      "Specific Time: 14:30:15\n",
      "Difference between two dates: 7 days\n",
      "Day of the Week: 2\n",
      "Formatted Date and Time: 12-03-2025 18:01:13\n"
     ]
    }
   ],
   "source": [
    "import datetime\n",
    "\n",
    "\n",
    "current_datetime = datetime.datetime.now()\n",
    "print(\"Current Date and Time:\", current_datetime)\n",
    "\n",
    "\n",
    "current_date = datetime.date.today()\n",
    "print(\"Current Date:\", current_date)\n",
    "\n",
    "specific_date = datetime.date(2022, 12, 25)\n",
    "print(\"Specific Date:\", specific_date)\n",
    "\n",
    "current_time = datetime.datetime.now().time()\n",
    "print(\"Current Time:\", current_time)\n",
    "\n",
    "\n",
    "specific_time = datetime.time(14, 30, 15)\n",
    "print(\"Specific Time:\", specific_time)\n",
    "\n",
    "\n",
    "date1 = datetime.date(2025, 1, 1)\n",
    "date2 = datetime.date(2024, 12, 25)\n",
    "difference = date1 - date2\n",
    "print(\"Difference between two dates:\", difference.days, \"days\")\n",
    "\n",
    "day_of_week = current_date.weekday()\n",
    "print(\"Day of the Week:\", day_of_week)\n",
    "\n",
    "\n",
    "formatted_datetime = current_datetime.strftime(\"%d-%m-%Y %H:%M:%S\")\n",
    "print(\"Formatted Date and Time:\", formatted_datetime)\n"
   ]
  },
  {
   "cell_type": "markdown",
   "metadata": {},
   "source": [
    "### 12) WAP to demonstrate the use of the math module."
   ]
  },
  {
   "cell_type": "code",
   "execution_count": 206,
   "metadata": {},
   "outputs": [
    {
     "name": "stdout",
     "output_type": "stream",
     "text": [
      "3\n",
      "5\n",
      "1\n"
     ]
    }
   ],
   "source": [
    "import math as m\n",
    "print(m.floor(3.2))\n",
    "print(m.ceil(4.1))\n",
    "print(m.gcd(3,4))"
   ]
  }
 ],
 "metadata": {
  "kernelspec": {
   "display_name": "Python 3 (ipykernel)",
   "language": "python",
   "name": "python3"
  },
  "language_info": {
   "codemirror_mode": {
    "name": "ipython",
    "version": 3
   },
   "file_extension": ".py",
   "mimetype": "text/x-python",
   "name": "python",
   "nbconvert_exporter": "python",
   "pygments_lexer": "ipython3",
   "version": "3.13.0"
  }
 },
 "nbformat": 4,
 "nbformat_minor": 4
}
