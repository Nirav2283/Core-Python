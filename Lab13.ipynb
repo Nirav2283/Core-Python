{
 "cells": [
  {
   "cell_type": "markdown",
   "metadata": {},
   "source": [
    "<a href='https://www.darshan.ac.in/'> <img src='https://www.darshan.ac.in/Content/media/DU_Logo.svg' width=\"250\" height=\"300\"/></a>\n",
    "<pre>\n",
    "<center><b><h1>Python Programming - 2301CS404</b></center>\n",
    "<center><b><h1>Lab - 13</b></center> \n",
    "<center><b><h1>Nirav Vaghasia | 23010101286 | CSE-4B (B1-315)</b></center>  \n",
    "<pre>"
   ]
  },
  {
   "cell_type": "markdown",
   "metadata": {},
   "source": [
    "# OOP"
   ]
  },
  {
   "cell_type": "markdown",
   "metadata": {},
   "source": [
    "### 01) Write a Program to create a class by name Students, and initialize attributes like name, age, and grade while creating an object."
   ]
  },
  {
   "cell_type": "code",
   "execution_count": 3,
   "metadata": {},
   "outputs": [
    {
     "name": "stdin",
     "output_type": "stream",
     "text": [
      "Enter a Name:  Nirav\n",
      "Enter a Age:  19\n",
      "Enter a grade A++\n"
     ]
    },
    {
     "name": "stdout",
     "output_type": "stream",
     "text": [
      "------STUDENT DETAILS-----\n",
      "name:  Nirav\n",
      "age:  19\n",
      "grade:  A++\n"
     ]
    }
   ],
   "source": [
    "class Students:\n",
    "    def __init__(self , name , age , grade):\n",
    "        self.name = name\n",
    "        self.age = age\n",
    "        self.grade = grade\n",
    "\n",
    "    def displaydetails(self):\n",
    "        print('------STUDENT DETAILS-----')\n",
    "        print('name: ' , self.name)\n",
    "        print('age: ' , self.age)\n",
    "        print('grade: ' , self.grade)\n",
    "\n",
    "name = input('Enter a Name: ')\n",
    "age = int(input('Enter a Age: '))\n",
    "grade = input('Enter a grade')\n",
    "\n",
    "s1 = Students(name , age , grade)\n",
    "\n",
    "s1.displaydetails()"
   ]
  },
  {
   "cell_type": "markdown",
   "metadata": {},
   "source": [
    "### 02) Create a class named Bank_Account with Account_No, User_Name, Email,Account_Type and Account_Balance data members. Also create a method GetAccountDetails() and DisplayAccountDetails(). Create main method to demonstrate the Bank_Account class."
   ]
  },
  {
   "cell_type": "code",
   "execution_count": 6,
   "metadata": {},
   "outputs": [
    {
     "name": "stdin",
     "output_type": "stream",
     "text": [
      "Enter a Account No:  12345\n",
      "Enter a Username:  Nirav\n",
      "Enter a Email:  nirav@gmail.com\n",
      "Enter a Account type:  saving\n",
      "Enter a account balance:  50000\n"
     ]
    },
    {
     "name": "stdout",
     "output_type": "stream",
     "text": [
      "------BANK ACCOUNT DETAILS-----\n",
      "Account No:  12345\n",
      "Username:  Nirav\n",
      "Email:  nirav@gmail.com\n",
      "Account Type:  saving\n",
      "Account Balance:  50000\n"
     ]
    }
   ],
   "source": [
    "class Bank_Account:\n",
    "    def __init__(self , Account_No , User_Name , Email , Account_Type , Account_Balance):\n",
    "        self.Account_No = Account_No\n",
    "        self.User_Name = User_Name\n",
    "        self.Email = Email\n",
    "        self.Account_Type = Account_Type\n",
    "        self.Account_Balance = Account_Balance\n",
    "\n",
    "    def GetAccountDetails(self):\n",
    "        self.Account_No = int(input(\"Enter a Account No: \"))\n",
    "        self.User_Name = input(\"Enter a Username: \")\n",
    "        self.Email = input('Enter a Email: ')\n",
    "        self.Account_Type = input('Enter a Account type: ')\n",
    "        self.Account_Balance = int(input('Enter a account balance: '))\n",
    "\n",
    "    def DisplayAccountDetails(self):\n",
    "        print('------BANK ACCOUNT DETAILS-----')\n",
    "        print('Account No: ' , self.Account_No)\n",
    "        print('Username: ' , self.User_Name)\n",
    "        print('Email: ' , self.Email)\n",
    "        print('Account Type: ' , self.Account_Type)\n",
    "        print('Account Balance: ' , self.Account_Balance)\n",
    "\n",
    "\n",
    "b1 = Bank_Account(\"\" , \"\" , \"\" , \"\" , \"\")\n",
    "b1.GetAccountDetails()\n",
    "b1.DisplayAccountDetails()\n",
    "        "
   ]
  },
  {
   "cell_type": "markdown",
   "metadata": {},
   "source": [
    "### 03) WAP to create Circle class with area and perimeter function to find area and perimeter of circle."
   ]
  },
  {
   "cell_type": "code",
   "execution_count": 12,
   "metadata": {},
   "outputs": [
    {
     "name": "stdout",
     "output_type": "stream",
     "text": [
      "Area of circle is:  28.274333882308138\n"
     ]
    }
   ],
   "source": [
    "import math as m\n",
    "class Circle:\n",
    "    def __init__(self , radius):\n",
    "        self.radius = radius\n",
    "\n",
    "    def Area_of_Circle(self):\n",
    "        print('Area of circle is: ' , m.pi * self.radius ** 2)\n",
    "\n",
    "c1 = Circle(3)\n",
    "c1.Area_of_Circle()"
   ]
  },
  {
   "cell_type": "markdown",
   "metadata": {},
   "source": [
    "### 04) Create a class for employees that includes attributes such as name, age, salary, and methods to update and display employee information."
   ]
  },
  {
   "cell_type": "code",
   "execution_count": 18,
   "metadata": {},
   "outputs": [
    {
     "name": "stdout",
     "output_type": "stream",
     "text": [
      "Name:  Nirav\n",
      "Age:  20\n",
      "Salary:  50000\n"
     ]
    },
    {
     "name": "stdin",
     "output_type": "stream",
     "text": [
      "Enter a New name:  Ayush\n",
      "Enter a New Age:  12\n",
      "Enter a New Salary:  20000\n"
     ]
    },
    {
     "name": "stdout",
     "output_type": "stream",
     "text": [
      "Name:  Ayush\n",
      "Age:  12\n",
      "Salary:  20000\n"
     ]
    }
   ],
   "source": [
    "class Employee:\n",
    "    def __init__(self , name , age , salary):\n",
    "        self.name = name\n",
    "        self.age = age\n",
    "        self.salary = salary\n",
    "\n",
    "    def updatedetails(self):\n",
    "        self.name = input('Enter a New name: ')\n",
    "        self.age = int(input('Enter a New Age: '))\n",
    "        self.salary = int(input('Enter a New Salary: '))\n",
    "\n",
    "\n",
    "    def display_info(self):\n",
    "        print('Name: ' , self.name)\n",
    "        print('Age: ' , self.age)\n",
    "        print('Salary: ' , self.salary)\n",
    "\n",
    "e1 = Employee('Nirav' , 20 , 50000)\n",
    "e1.display_info()\n",
    "\n",
    "e1.updatedetails()\n",
    "e1.display_info()\n",
    "        "
   ]
  },
  {
   "cell_type": "markdown",
   "metadata": {},
   "source": [
    "### 05) Create a bank account class with methods to deposit, withdraw, and check balance."
   ]
  },
  {
   "cell_type": "code",
   "execution_count": 26,
   "metadata": {},
   "outputs": [
    {
     "name": "stdout",
     "output_type": "stream",
     "text": [
      "------YOUR CURRENT BALANCE-----\n",
      "50000\n",
      "You Deposit 500 Ruppes\n",
      "------YOUR CURRENT BALANCE-----\n",
      "50500\n",
      "You Withdraw 500 Ruppes\n",
      "------YOUR CURRENT BALANCE-----\n",
      "49900\n"
     ]
    }
   ],
   "source": [
    "class Bank:\n",
    "    def __init__(self , name , balance):\n",
    "        self.name = name\n",
    "        self.balance = balance\n",
    "\n",
    "    def deposit_money(self , amount):\n",
    "        self.balance += amount\n",
    "\n",
    "    def withdraw_money(self , amount):\n",
    "        if amount < 0:\n",
    "            print('Enter Valid Amount')\n",
    "\n",
    "        if amount > self.balance:\n",
    "            print('insufficient balance')\n",
    "        else:\n",
    "            self.balance -= amount\n",
    "\n",
    "    def check_balance(self):\n",
    "        print('------YOUR CURRENT BALANCE-----')\n",
    "        print(self.balance)\n",
    "\n",
    "b1 = Bank('Nirav' , 50000)\n",
    "b1.check_balance()\n",
    "\n",
    "b1.deposit_money(500)\n",
    "print('You Deposit' , 500 , 'Ruppes')\n",
    "b1.check_balance()\n",
    "\n",
    "b1.withdraw_money(600)\n",
    "print('You Withdraw' , 500 , 'Ruppes')\n",
    "b1.check_balance()\n",
    "\n"
   ]
  },
  {
   "cell_type": "markdown",
   "metadata": {},
   "source": [
    "### 06) Create a class for managing inventory that includes attributes such as item name, price, quantity, and methods to add, remove, and update items."
   ]
  },
  {
   "cell_type": "code",
   "execution_count": 27,
   "metadata": {},
   "outputs": [
    {
     "name": "stdout",
     "output_type": "stream",
     "text": [
      "Item Laptop added with price: $1000 and quantity: 5.\n",
      "\n",
      "Current Inventory:\n",
      "Item: Laptop, Price: $1000, Quantity: 5\n",
      "Updated price of Laptop to $1200.\n",
      "Updated quantity of Laptop to 10.\n",
      "\n",
      "Current Inventory:\n",
      "Item: Laptop, Price: $1200, Quantity: 10\n",
      "Item Laptop removed from inventory.\n",
      "Inventory is empty.\n"
     ]
    }
   ],
   "source": [
    "class Inventory:\n",
    "    def __init__(self):\n",
    "        self.item_name = None\n",
    "        self.price = 0\n",
    "        self.quantity = 0\n",
    "\n",
    "    def add_item(self, item_name, price, quantity):\n",
    "        self.item_name = item_name\n",
    "        self.price = price\n",
    "        self.quantity = quantity\n",
    "        print(f\"Item {item_name} added with price: ${price} and quantity: {quantity}.\")\n",
    "\n",
    "\n",
    "    def remove_item(self):\n",
    "        if self.item_name is not None:\n",
    "            print(f\"Item {self.item_name} removed from inventory.\")\n",
    "            self.item_name = None\n",
    "            self.price = 0\n",
    "            self.quantity = 0\n",
    "        else:\n",
    "            print(\"No item to remove. The inventory is empty.\")\n",
    "\n",
    "    \n",
    "    def update_item(self, price=None, quantity=None):\n",
    "        if self.item_name is not None:\n",
    "            if price is not None:\n",
    "                self.price = price\n",
    "                print(f\"Updated price of {self.item_name} to ${price}.\")\n",
    "            if quantity is not None:\n",
    "                self.quantity = quantity\n",
    "                print(f\"Updated quantity of {self.item_name} to {quantity}.\")\n",
    "        else:\n",
    "            print(\"No item found in the inventory to update.\")\n",
    "            \n",
    "    def display_inventory(self):\n",
    "        if self.item_name is not None:\n",
    "            print(\"\\nCurrent Inventory:\")\n",
    "            print(f\"Item: {self.item_name}, Price: ${self.price}, Quantity: {self.quantity}\")\n",
    "        else:\n",
    "            print(\"Inventory is empty.\")\n",
    "\n",
    "\n",
    "   \n",
    "inventory = Inventory()\n",
    "\n",
    "   \n",
    "inventory.add_item(\"Laptop\", 1000, 5)\n",
    "\n",
    "inventory.display_inventory()\n",
    "\n",
    "inventory.update_item(price=1200, quantity=10)\n",
    "\n",
    "inventory.display_inventory()\n",
    "\n",
    "inventory.remove_item()\n",
    "\n",
    "inventory.display_inventory()\n",
    "\n",
    "\n",
    "\n",
    "    \n"
   ]
  },
  {
   "cell_type": "markdown",
   "metadata": {},
   "source": [
    "### 07) Create a Class with instance attributes of your choice."
   ]
  },
  {
   "cell_type": "code",
   "execution_count": 1,
   "metadata": {},
   "outputs": [
    {
     "name": "stdout",
     "output_type": "stream",
     "text": [
      "Make: Toyota\n",
      "Model: Camry\n",
      "Year: 2021\n",
      "Color: Blue\n",
      "Car Details: 2021 Blue Toyota Camry\n"
     ]
    }
   ],
   "source": [
    "class Car:\n",
    "    def __init__(self, make, model, year, color):\n",
    "        self.make = make\n",
    "        self.model = model\n",
    "        self.year = year\n",
    "        self.color = color\n",
    "\n",
    "    def display_details(self):\n",
    "        return f\"Car Details: {self.year} {self.color} {self.make} {self.model}\"\n",
    "\n",
    "my_car = Car(\"Toyota\", \"Camry\", 2021, \"Blue\")\n",
    "\n",
    "print(f\"Make: {my_car.make}\")\n",
    "print(f\"Model: {my_car.model}\")\n",
    "print(f\"Year: {my_car.year}\")\n",
    "print(f\"Color: {my_car.color}\")\n",
    "\n",
    "print(my_car.display_details())\n"
   ]
  },
  {
   "cell_type": "markdown",
   "metadata": {},
   "source": [
    "### 08) Create one class student_kit\n",
    "#### Within the student_kit class create one class attribute principal name ( Mr ABC )\n",
    "#### Create one attendance method and take input as number of days.\n",
    "#### While creating student take input their name .\n",
    "#### Create one certificate for each student by taking input of number of days present in class."
   ]
  },
  {
   "cell_type": "code",
   "execution_count": 32,
   "metadata": {},
   "outputs": [
    {
     "name": "stdin",
     "output_type": "stream",
     "text": [
      "Enter a Name:  Nirav\n",
      "Enter number of days present:  18\n"
     ]
    },
    {
     "name": "stdout",
     "output_type": "stream",
     "text": [
      "------CERTIFICATE GOES TO------\n",
      "Name: Nirav\n",
      "College: Darshan University\n",
      "Present Days: 18\n",
      "Principal: Mr ABC\n"
     ]
    }
   ],
   "source": [
    "class Student_Kit:\n",
    "    principal = 'Mr ABC'\n",
    "\n",
    "    def __init__(self, name):\n",
    "        self.name = name\n",
    "        self.days = 0\n",
    "\n",
    "    def attendance(self, days):\n",
    "        self.days = days\n",
    "\n",
    "    def generate_certificate(self):\n",
    "        print('------CERTIFICATE GOES TO------')\n",
    "        print('Name:', self.name)\n",
    "        print('College: Darshan University')\n",
    "        print('Present Days:', self.days)\n",
    "        print('Principal:', Student_Kit.principal)\n",
    "\n",
    "name = input(\"Enter a Name: \")\n",
    "present_days = int(input('Enter number of days present: '))\n",
    "\n",
    "s1 = Student_Kit(name)\n",
    "s1.attendance(present_days)\n",
    "s1.generate_certificate()\n"
   ]
  },
  {
   "cell_type": "markdown",
   "metadata": {},
   "source": [
    "### 09) Define Time class with hour and minute as data member. Also define addition method to add two time objects."
   ]
  },
  {
   "cell_type": "code",
   "execution_count": 33,
   "metadata": {},
   "outputs": [
    {
     "name": "stdout",
     "output_type": "stream",
     "text": [
      "Total time is: 08:10\n"
     ]
    }
   ],
   "source": [
    "class Time:\n",
    "    def __init__(self , hour , minute):\n",
    "        self.hour = hour\n",
    "        self.minute = minute\n",
    "\n",
    "    def add(self , other_time):\n",
    "        total_hour = self.hour + other_time.hour\n",
    "        total_min =  self.minute + other_time.minute\n",
    "\n",
    "        if total_min >= 60:\n",
    "            extra_hours = total_min // 60\n",
    "            total_hour += extra_hours\n",
    "            total_min = total_min % 60\n",
    "\n",
    "        return Time(total_hour, total_min)\n",
    "\n",
    "    def print_time(self):\n",
    "        print(f'Total time is: {self.hour:02}:{self.minute:02}')\n",
    "\n",
    "t1 = Time(5 , 20)\n",
    "t2 = Time(2, 50)\n",
    "\n",
    "total_time = t1.add(t2)\n",
    "\n",
    "total_time.print_time()\n"
   ]
  }
 ],
 "metadata": {
  "kernelspec": {
   "display_name": "Python 3 (ipykernel)",
   "language": "python",
   "name": "python3"
  },
  "language_info": {
   "codemirror_mode": {
    "name": "ipython",
    "version": 3
   },
   "file_extension": ".py",
   "mimetype": "text/x-python",
   "name": "python",
   "nbconvert_exporter": "python",
   "pygments_lexer": "ipython3",
   "version": "3.13.0"
  }
 },
 "nbformat": 4,
 "nbformat_minor": 4
}
