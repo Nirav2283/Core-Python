{
 "cells": [
  {
   "cell_type": "markdown",
   "metadata": {},
   "source": [
    "\n",
    "<a href='https://www.darshan.ac.in/'> <img src='https://www.darshan.ac.in/Content/media/DU_Logo.svg' width=\"250\" height=\"300\"/></a>\n",
    "<pre>\n",
    "<center><b><h1>Python Programming - 2301CS404</b></center>\n",
    "<center><b><h1>Lab - 5</b></center>\n",
    "<center><b><h1>Nirav Vaghasia || 23010101286 || CSE-4B<center> \n",
    "<pre>"
   ]
  },
  {
   "cell_type": "markdown",
   "metadata": {},
   "source": [
    "# List"
   ]
  },
  {
   "cell_type": "markdown",
   "metadata": {},
   "source": [
    "### 01) WAP to find sum of all the elements in a List."
   ]
  },
  {
   "cell_type": "code",
   "execution_count": 4,
   "metadata": {},
   "outputs": [
    {
     "name": "stdin",
     "output_type": "stream",
     "text": [
      "Enter a Number of Element:  5\n",
      "Enter a element 1:  1\n",
      "Enter a element 2:  2\n",
      "Enter a element 3:  3\n",
      "Enter a element 4:  4\n",
      "Enter a element 5:  5\n"
     ]
    },
    {
     "name": "stdout",
     "output_type": "stream",
     "text": [
      "15\n"
     ]
    }
   ],
   "source": [
    "n = int(input(\"Enter a Number of Element: \"))\n",
    "list = []\n",
    "for i in range(n):\n",
    "    element = int(input(f\"Enter a element {i + 1}: \"))\n",
    "    list.append(element)\n",
    "\n",
    "sum = 0\n",
    "for i in list:\n",
    "    sum += i\n",
    "print(sum)"
   ]
  },
  {
   "cell_type": "markdown",
   "metadata": {},
   "source": [
    "### 02) WAP to find largest element in a List."
   ]
  },
  {
   "cell_type": "code",
   "execution_count": 8,
   "metadata": {},
   "outputs": [
    {
     "name": "stdin",
     "output_type": "stream",
     "text": [
      "Enter a Number of Element:  5\n",
      "Enter a element 1:  1\n",
      "Enter a element 2:  4\n",
      "Enter a element 3:  8\n",
      "Enter a element 4:  10\n",
      "Enter a element 5:  2\n"
     ]
    },
    {
     "name": "stdout",
     "output_type": "stream",
     "text": [
      "Max Element in the list is:  10\n"
     ]
    }
   ],
   "source": [
    "n = int(input(\"Enter a Number of Element: \"))\n",
    "list = []\n",
    "for i in range(n):\n",
    "    element = int(input(f\"Enter a element {i + 1}: \"))\n",
    "    list.append(element)\n",
    "\n",
    "max = list[0]\n",
    "for num in list:\n",
    "    if num > max:\n",
    "        max = num \n",
    "print(\"Max Element in the list is: \", max)\n",
    "    "
   ]
  },
  {
   "cell_type": "markdown",
   "metadata": {},
   "source": [
    "### 03) WAP to find the length of a List."
   ]
  },
  {
   "cell_type": "code",
   "execution_count": 9,
   "metadata": {},
   "outputs": [
    {
     "name": "stdin",
     "output_type": "stream",
     "text": [
      "Enter a Number of Element:  5\n",
      "Enter a element 1:  1\n",
      "Enter a element 2:  4\n",
      "Enter a element 3:  6\n",
      "Enter a element 4:  5\n",
      "Enter a element 5:  10\n"
     ]
    },
    {
     "name": "stdout",
     "output_type": "stream",
     "text": [
      "Length of the list is:  5\n"
     ]
    }
   ],
   "source": [
    "n = int(input(\"Enter a Number of Element: \"))\n",
    "list = []\n",
    "for i in range(n):\n",
    "    element = int(input(f\"Enter a element {i + 1}: \"))\n",
    "    list.append(element)\n",
    "\n",
    "length = len(list)\n",
    "print(\"Length of the list is: \" , length)"
   ]
  },
  {
   "cell_type": "markdown",
   "metadata": {},
   "source": [
    "### 04) WAP to interchange first and last elements in a list."
   ]
  },
  {
   "cell_type": "code",
   "execution_count": 13,
   "metadata": {},
   "outputs": [
    {
     "name": "stdin",
     "output_type": "stream",
     "text": [
      "Enter a Number of Element:  5\n",
      "Enter a element 1:  1\n",
      "Enter a element 2:  2\n",
      "Enter a element 3:  3\n",
      "Enter a element 4:  4\n",
      "Enter a element 5:  5\n"
     ]
    },
    {
     "name": "stdout",
     "output_type": "stream",
     "text": [
      "Before Swap: \n",
      "[1, 2, 3, 4, 5]\n",
      "After Swap the first and last element: \n",
      "[5, 2, 3, 4, 1]\n"
     ]
    }
   ],
   "source": [
    "n = int(input(\"Enter a Number of Element: \"))\n",
    "list = []\n",
    "for i in range(n):\n",
    "    element = int(input(f\"Enter a element {i + 1}: \"))\n",
    "    list.append(element)\n",
    "print(\"Before Swap: \")\n",
    "print(list)\n",
    "list[0] , list[-1] = list[-1] , list[0]\n",
    "\n",
    "print(\"After Swap the first and last element: \")\n",
    "print(list)"
   ]
  },
  {
   "cell_type": "markdown",
   "metadata": {},
   "source": [
    "### 05) WAP to split the List into two parts and append the first part to the end."
   ]
  },
  {
   "cell_type": "code",
   "execution_count": 17,
   "metadata": {},
   "outputs": [
    {
     "name": "stdin",
     "output_type": "stream",
     "text": [
      "Enter a Number of Element:  6\n",
      "Enter a element 1:  10\n",
      "Enter a element 2:  20\n",
      "Enter a element 3:  30\n",
      "Enter a element 4:  40\n",
      "Enter a element 5:  50\n",
      "Enter a element 6:  60\n"
     ]
    },
    {
     "name": "stdout",
     "output_type": "stream",
     "text": [
      "Before update\n",
      "[10, 20, 30, 40, 50, 60]\n",
      "After Update: \n",
      "[40, 50, 60, 10, 20, 30]\n"
     ]
    }
   ],
   "source": [
    "n = int(input(\"Enter a Number of Element: \"))\n",
    "list = []\n",
    "for i in range(n):\n",
    "    element = int(input(f\"Enter a element {i + 1}: \"))\n",
    "    list.append(element)\n",
    "\n",
    "\n",
    "print(\"Before update\")\n",
    "print(list)\n",
    "split_index = n // 2\n",
    "\n",
    "first_part = list[:split_index]\n",
    "second_part = list[split_index:]\n",
    "\n",
    "result = second_part + first_part\n",
    "print(\"After Update: \")\n",
    "print(result)\n"
   ]
  },
  {
   "cell_type": "markdown",
   "metadata": {},
   "source": [
    "### 06) WAP to interchange the elements on two positions entered by a user."
   ]
  },
  {
   "cell_type": "code",
   "execution_count": 21,
   "metadata": {},
   "outputs": [
    {
     "name": "stdin",
     "output_type": "stream",
     "text": [
      "Enter a Number of Element:  6\n",
      "Enter a element 1:  10\n",
      "Enter a element 2:  20\n",
      "Enter a element 3:  30\n",
      "Enter a element 4:  40\n",
      "Enter a element 5:  50\n",
      "Enter a element 6:  60\n",
      "Enter a First index:  1\n",
      "Enter a Second index:  3\n"
     ]
    },
    {
     "name": "stdout",
     "output_type": "stream",
     "text": [
      "Before swap: \n",
      "[10, 20, 30, 40, 50, 60]\n",
      "After swap: \n",
      "[10, 40, 30, 20, 50, 60]\n"
     ]
    }
   ],
   "source": [
    "n = int(input(\"Enter a Number of Element: \"))\n",
    "list = []\n",
    "for i in range(n):\n",
    "    element = int(input(f\"Enter a element {i + 1}: \"))\n",
    "    list.append(element)\n",
    "\n",
    "first_pos = int(input(\"Enter a First index: \"))\n",
    "second_pos = int(input(\"Enter a Second index: \"))\n",
    "\n",
    "print(\"Before swap: \")\n",
    "print(list)\n",
    "\n",
    "#swap\n",
    "if 0 <= first_pos < n and 0 <= second_pos < n:\n",
    "    list[first_pos] , list[second_pos] = list[second_pos] , list[first_pos]\n",
    "else:\n",
    "    print(\"Enter a valid index\")\n",
    "\n",
    "print(\"After swap: \")\n",
    "print(list)\n",
    "\n"
   ]
  },
  {
   "cell_type": "markdown",
   "metadata": {},
   "source": [
    "### 07) WAP to reverse the list entered by user."
   ]
  },
  {
   "cell_type": "code",
   "execution_count": 24,
   "metadata": {},
   "outputs": [
    {
     "name": "stdin",
     "output_type": "stream",
     "text": [
      "Enter a Number of Element:  6\n",
      "Enter a element 1:  10\n",
      "Enter a element 2:  20\n",
      "Enter a element 3:  30\n",
      "Enter a element 4:  40\n",
      "Enter a element 5:  50\n",
      "Enter a element 6:  60\n"
     ]
    },
    {
     "name": "stdout",
     "output_type": "stream",
     "text": [
      "Before Swap: \n",
      "[10, 20, 30, 40, 50, 60]\n",
      "After Swap: \n",
      "[60, 50, 40, 30, 20, 10]\n"
     ]
    }
   ],
   "source": [
    "n = int(input(\"Enter a Number of Element: \"))\n",
    "list = []\n",
    "for i in range(n):\n",
    "    element = int(input(f\"Enter a element {i + 1}: \"))\n",
    "    list.append(element)\n",
    "print(\"Before Swap: \")\n",
    "print(list)\n",
    "\n",
    "list.reverse()\n",
    "print(\"After Swap: \")\n",
    "print(list)"
   ]
  },
  {
   "cell_type": "raw",
   "metadata": {},
   "source": [
    "### 08) WAP to print even numbers in a list."
   ]
  },
  {
   "cell_type": "code",
   "execution_count": 39,
   "metadata": {},
   "outputs": [
    {
     "name": "stdout",
     "output_type": "stream",
     "text": [
      "2\n",
      "4\n",
      "6\n"
     ]
    }
   ],
   "source": [
    "l = [1,2,3,4,5,6]\n",
    "\n",
    "for i in l:\n",
    "    if i%2==0:\n",
    "        print(i)\n"
   ]
  },
  {
   "cell_type": "markdown",
   "metadata": {},
   "source": [
    "### 09) WAP to count unique items in a list."
   ]
  },
  {
   "cell_type": "code",
   "execution_count": 41,
   "metadata": {},
   "outputs": [
    {
     "data": {
      "text/plain": [
       "9"
      ]
     },
     "execution_count": 41,
     "metadata": {},
     "output_type": "execute_result"
    }
   ],
   "source": [
    "l=[1,2,3,1,4,5,6,9,10,11]\n",
    "temp=[]\n",
    "for i in l:\n",
    "    if temp.count(i)==0:\n",
    "        temp.append(i)\n",
    "len(temp)"
   ]
  },
  {
   "cell_type": "markdown",
   "metadata": {},
   "source": [
    "### 10) WAP to copy a list."
   ]
  },
  {
   "cell_type": "code",
   "execution_count": 43,
   "metadata": {},
   "outputs": [
    {
     "name": "stdout",
     "output_type": "stream",
     "text": [
      "[10, 20, 30, 40, 50]\n"
     ]
    }
   ],
   "source": [
    "list1 = [10,20,30,40,50]\n",
    "\n",
    "list2 = list1.copy()\n",
    "print(list2)"
   ]
  },
  {
   "cell_type": "markdown",
   "metadata": {},
   "source": [
    "### 11) WAP to print all odd numbers in a given range."
   ]
  },
  {
   "cell_type": "code",
   "execution_count": 44,
   "metadata": {},
   "outputs": [
    {
     "name": "stdin",
     "output_type": "stream",
     "text": [
      "Enter a First Number:  10\n",
      "Enter a Second Number:  20\n"
     ]
    },
    {
     "name": "stdout",
     "output_type": "stream",
     "text": [
      "11\n",
      "13\n",
      "15\n",
      "17\n",
      "19\n"
     ]
    }
   ],
   "source": [
    "n1 = int(input(\"Enter a First Number: \"))\n",
    "n2 = int(input(\"Enter a Second Number: \"))\n",
    "\n",
    "for i in range(n1 , n2+1):\n",
    "    if i % 2 != 0:\n",
    "        print(i)"
   ]
  },
  {
   "cell_type": "markdown",
   "metadata": {},
   "source": [
    "### 12) WAP to count occurrences of an element in a list."
   ]
  },
  {
   "cell_type": "code",
   "execution_count": 51,
   "metadata": {},
   "outputs": [
    {
     "name": "stdin",
     "output_type": "stream",
     "text": [
      "Enter a Number of Element:  5\n",
      "Enter a element 1:  10\n",
      "Enter a element 2:  40\n",
      "Enter a element 3:  30\n",
      "Enter a element 4:  10\n",
      "Enter a element 5:  20\n",
      "Enter a Element which you want to count ocuurences:  10\n"
     ]
    },
    {
     "name": "stdout",
     "output_type": "stream",
     "text": [
      "Occurence of 10 is : 2\n"
     ]
    }
   ],
   "source": [
    "n = int(input(\"Enter a Number of Element: \"))\n",
    "list = []\n",
    "for i in range(n):\n",
    "    element = input(f\"Enter a element {i + 1}: \")\n",
    "    list.append(element)\n",
    "\n",
    "m = input(\"Enter a Element which you want to count ocuurences: \")\n",
    "\n",
    "\n",
    "print(f\"Occurence of {m} is : {list.count(m)}\") "
   ]
  },
  {
   "cell_type": "markdown",
   "metadata": {},
   "source": [
    "### 13) WAP to find second largest number in a list."
   ]
  },
  {
   "cell_type": "code",
   "execution_count": 28,
   "metadata": {},
   "outputs": [],
   "source": [
    "list = [10,20,30,40,50]\n",
    "\n"
   ]
  },
  {
   "cell_type": "markdown",
   "metadata": {},
   "source": [
    "### 14) WAP to extract elements with frequency greater than K."
   ]
  },
  {
   "cell_type": "code",
   "execution_count": 26,
   "metadata": {},
   "outputs": [
    {
     "name": "stdin",
     "output_type": "stream",
     "text": [
      "Enter a Frequency:  2\n"
     ]
    },
    {
     "name": "stdout",
     "output_type": "stream",
     "text": [
      "[10, 20, 30, 40]\n"
     ]
    }
   ],
   "source": [
    "k = int(input(\"Enter a Frequency: \"))\n",
    "list = [10,20,30,40,20,20,10,30,10,40,40,10,30]\n",
    "new = []\n",
    "for i in list:\n",
    "    if list.count(i) > k and new.count(i)==0:\n",
    "        new.append(i)\n",
    "\n",
    "print(new)"
   ]
  },
  {
   "cell_type": "markdown",
   "metadata": {},
   "source": [
    "### 15) WAP to create a list of squared numbers from 0 to 9 with and without using List Comprehension."
   ]
  },
  {
   "cell_type": "code",
   "execution_count": 17,
   "metadata": {},
   "outputs": [
    {
     "name": "stdout",
     "output_type": "stream",
     "text": [
      "[0, 1, 4, 9, 16, 25, 36, 49, 64, 81]\n"
     ]
    }
   ],
   "source": [
    "squares = []\n",
    "for i in range(10):\n",
    "    squares.append(i**2)\n",
    "print(squares)"
   ]
  },
  {
   "cell_type": "markdown",
   "metadata": {},
   "source": [
    "### 16) WAP to create a new list (fruit whose name starts with 'b') from the list of fruits given by user."
   ]
  },
  {
   "cell_type": "code",
   "execution_count": 20,
   "metadata": {},
   "outputs": [
    {
     "name": "stdin",
     "output_type": "stream",
     "text": [
      "Enter a Fruits Name(comma seperated):  Banana,Blueberry,orange,apple\n"
     ]
    },
    {
     "name": "stdout",
     "output_type": "stream",
     "text": [
      "Fruits Start with 'b' is\n",
      "['Banana', 'Blueberry']\n"
     ]
    }
   ],
   "source": [
    "fruits = input(\"Enter a Fruits Name(comma seperated): \").split(',')\n",
    "# print(fruits)\n",
    "fruits_b = []\n",
    "for f in fruits:\n",
    "    if f.lower().startswith('b'):\n",
    "        fruits_b.append(f)\n",
    "print(\"Fruits Start with 'b' is\")\n",
    "print(fruits_b)"
   ]
  },
  {
   "cell_type": "markdown",
   "metadata": {},
   "source": [
    "### 17) WAP to create a list of common elements from given two lists."
   ]
  },
  {
   "cell_type": "code",
   "execution_count": 14,
   "metadata": {},
   "outputs": [
    {
     "name": "stdout",
     "output_type": "stream",
     "text": [
      "Final List which have common Numbers: \n",
      "['bananana', 'peach', 3]\n"
     ]
    }
   ],
   "source": [
    "\n",
    "list1 = ['apple' , 'mango' , 'bananana' , 'peach' , 2 , 1 , 3]\n",
    "list2 = ['bananana' , 'orange' , 'peach' , 'grapes' , 3]\n",
    "list3 = []\n",
    "for i in list1:\n",
    "    if i in list2:\n",
    "        list3.append(i)\n",
    "\n",
    "print(\"Final List which have common Numbers: \")\n",
    "print(list3)\n",
    "\n"
   ]
  }
 ],
 "metadata": {
  "kernelspec": {
   "display_name": "Python 3 (ipykernel)",
   "language": "python",
   "name": "python3"
  },
  "language_info": {
   "codemirror_mode": {
    "name": "ipython",
    "version": 3
   },
   "file_extension": ".py",
   "mimetype": "text/x-python",
   "name": "python",
   "nbconvert_exporter": "python",
   "pygments_lexer": "ipython3",
   "version": "3.13.0"
  }
 },
 "nbformat": 4,
 "nbformat_minor": 4
}
