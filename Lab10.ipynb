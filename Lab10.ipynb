{
 "cells": [
  {
   "cell_type": "markdown",
   "metadata": {},
   "source": [
    "<a href='https://www.darshan.ac.in/'> <img src='https://www.darshan.ac.in/Content/media/DU_Logo.svg' width=\"250\" height=\"300\"/></a>\n",
    "<pre>\n",
    "<center><b><h1>Python Programming - 2301CS404</b></center>\n",
    "<center><b><h1>Lab - 10</b></center> \n",
    "<center><b><h1>Nirav Vaghasia | 23010101286 | CSE - 4B (B1 - 315)</b></center>   \n",
    "<pre>"
   ]
  },
  {
   "cell_type": "markdown",
   "metadata": {},
   "source": [
    "# Exception Handling"
   ]
  },
  {
   "cell_type": "markdown",
   "metadata": {},
   "source": [
    "### 01) WAP to handle following exceptions:\n",
    "1. ZeroDivisionError\n",
    "2. ValueError\n",
    "3. TypeError\n",
    "#### Note: handle them using separate except blocks and also using single except block too."
   ]
  },
  {
   "cell_type": "code",
   "execution_count": 5,
   "metadata": {},
   "outputs": [
    {
     "name": "stdin",
     "output_type": "stream",
     "text": [
      "Enter a first number 4\n",
      "Enter a second number 0\n"
     ]
    },
    {
     "name": "stdout",
     "output_type": "stream",
     "text": [
      "Cannot Divide by Zero\n"
     ]
    },
    {
     "name": "stdin",
     "output_type": "stream",
     "text": [
      "Enter a first number nirav\n"
     ]
    },
    {
     "name": "stdout",
     "output_type": "stream",
     "text": [
      "invalid literal for int() with base 10: 'nirav'\n"
     ]
    }
   ],
   "source": [
    "try:\n",
    "    a = int(input(\"Enter a first number\"))\n",
    "    b = int(input(\"Enter a second number\"))\n",
    "    c = a / b\n",
    "    print(c)\n",
    "    print('abc' + 1)\n",
    "except ZeroDivisionError:\n",
    "    print(\"Cannot Divide by Zero\")\n",
    "except ValueError:\n",
    "    print(\"value Error : pls enter a valid number\")\n",
    "except TypeError:\n",
    "    print(\"Type Error : unsupported operations\")\n",
    "\n",
    "\n",
    "# single except block\n",
    "\n",
    "try:\n",
    "    a = int(input(\"Enter a first number\"))\n",
    "    b = int(input(\"Enter a second number\"))\n",
    "    c = a / b\n",
    "    print(c)\n",
    "    print('abc' + 1)\n",
    "except (ZeroDivisionError , ValueError , TypeError) as err:\n",
    "    print(err)\n",
    "    "
   ]
  },
  {
   "cell_type": "markdown",
   "metadata": {},
   "source": [
    "### 02)  WAP to handle following exceptions:\n",
    "1. IndexError\n",
    "2. KeyError"
   ]
  },
  {
   "cell_type": "code",
   "execution_count": 9,
   "metadata": {},
   "outputs": [
    {
     "name": "stdin",
     "output_type": "stream",
     "text": [
      "Enter index:  2\n"
     ]
    },
    {
     "name": "stdout",
     "output_type": "stream",
     "text": [
      "3\n",
      "Error: Enter a valid key\n"
     ]
    }
   ],
   "source": [
    "try:\n",
    "    my_list = [1,2,3]\n",
    "    a = int(input(\"Enter index: \"))\n",
    "    print(my_list[a])\n",
    "except IndexError:\n",
    "    print('Error: enter a valid index')\n",
    "\n",
    "# key error\n",
    "\n",
    "try:\n",
    "    my_dict = {'a' : 1 , 'b' : 2}\n",
    "    print(my_dict['c'])\n",
    "\n",
    "except KeyError:\n",
    "    print(\"Error: Enter a valid key\")"
   ]
  },
  {
   "cell_type": "markdown",
   "metadata": {},
   "source": [
    "### 03) WAP to handle following exceptions:\n",
    "1. FileNotFoundError\n",
    "2. ModuleNotFoundError"
   ]
  },
  {
   "cell_type": "code",
   "execution_count": 11,
   "metadata": {},
   "outputs": [
    {
     "name": "stdout",
     "output_type": "stream",
     "text": [
      "File Not Found\n"
     ]
    }
   ],
   "source": [
    "try:\n",
    "    fp = open('abc2.txt')\n",
    "    print(fp.read())\n",
    "\n",
    "except FileNotFoundError:\n",
    "    print('File Not Found')"
   ]
  },
  {
   "cell_type": "markdown",
   "metadata": {},
   "source": [
    "### 04) WAP that catches all type of exceptions in a single except block."
   ]
  },
  {
   "cell_type": "code",
   "execution_count": 14,
   "metadata": {},
   "outputs": [
    {
     "name": "stdout",
     "output_type": "stream",
     "text": [
      "division by zero\n"
     ]
    }
   ],
   "source": [
    "try:\n",
    "    \n",
    "    print(1/0)\n",
    "    print('c' + 1)\n",
    "    my_list = [1,2,3]\n",
    "    print(my_list[4])\n",
    "    my_dict = {'a' : 1 , 'b' : 2}\n",
    "    print(my_dict['c'])\n",
    "    fp = open('abc2.txt')\n",
    "    print(fp.read())\n",
    "    a = int(input(\"enter a number: \"))\n",
    "\n",
    "except (ZeroDivisionError , ValueError , TypeError , FileNotFoundError , KeyError) as err:\n",
    "    print(err)    "
   ]
  },
  {
   "cell_type": "markdown",
   "metadata": {},
   "source": [
    "### 05) WAP to demonstrate else  and finally block."
   ]
  },
  {
   "cell_type": "code",
   "execution_count": 19,
   "metadata": {},
   "outputs": [
    {
     "name": "stdout",
     "output_type": "stream",
     "text": [
      "[Errno 2] No such file or directory: 'abc2.txt'\n",
      "Execute always\n"
     ]
    }
   ],
   "source": [
    "try:\n",
    "    fp = open('abc2.txt')\n",
    "except FileNotFoundError as err:\n",
    "    print(err)\n",
    "else:\n",
    "    print(fp.read())\n",
    "    fp.close()\n",
    "\n",
    "finally:\n",
    "    print('Execute always')"
   ]
  },
  {
   "cell_type": "markdown",
   "metadata": {},
   "source": [
    "### 06) Create a short program that prompts the user for a list of grades separated by commas. \n",
    "### Split the string into individual grades and use a list comprehension to convert each string to an integer. \n",
    "### You should use a try statement to inform the user when the values they entered cannot be converted."
   ]
  },
  {
   "cell_type": "code",
   "execution_count": 21,
   "metadata": {},
   "outputs": [
    {
     "name": "stdin",
     "output_type": "stream",
     "text": [
      "Enter a list seperated by comma 1,2,3,Nirav\n"
     ]
    },
    {
     "name": "stdout",
     "output_type": "stream",
     "text": [
      "invalid literal for int() with base 10: 'Nirav'\n"
     ]
    }
   ],
   "source": [
    "try:\n",
    "    list = input('Enter a list seperated by comma')\n",
    "    grade = [int(i) for i in list.split(',')]\n",
    "    print(grade)\n",
    "except ValueError as err:\n",
    "    print(err)"
   ]
  },
  {
   "cell_type": "markdown",
   "metadata": {},
   "source": [
    "### 07) WAP to create an udf divide(a,b) that handles ZeroDivisionError."
   ]
  },
  {
   "cell_type": "code",
   "execution_count": 23,
   "metadata": {},
   "outputs": [
    {
     "name": "stdin",
     "output_type": "stream",
     "text": [
      "Enter a First Number:  1\n",
      "Enter a Second Number:  0\n"
     ]
    },
    {
     "name": "stdout",
     "output_type": "stream",
     "text": [
      "integer division or modulo by zero\n"
     ]
    }
   ],
   "source": [
    "def divide_by_zero(a,b):\n",
    "    try:\n",
    "        c = a//b\n",
    "        print(c)\n",
    "    except ZeroDivisionError as err:\n",
    "        print(err)\n",
    "\n",
    "a = int(input(\"Enter a First Number: \"))\n",
    "b = int(input('Enter a Second Number: '))\n",
    "\n",
    "divide_by_zero(a,b)"
   ]
  },
  {
   "cell_type": "markdown",
   "metadata": {},
   "source": [
    "### 08) WAP that gets an age of a person form the user and raises ValueError with error message: \"Enter Valid Age\" :\n",
    "#### If the age is less than 18. \n",
    "#### otherwise print the age."
   ]
  },
  {
   "cell_type": "code",
   "execution_count": 38,
   "metadata": {},
   "outputs": [
    {
     "name": "stdin",
     "output_type": "stream",
     "text": [
      "Enter a age:  14\n"
     ]
    },
    {
     "name": "stdout",
     "output_type": "stream",
     "text": [
      "Enter a Valid age\n"
     ]
    }
   ],
   "source": [
    "try:\n",
    "    age = int(input('Enter a age: '))\n",
    "    if age < 18:\n",
    "        raise ValueError('Enter a Valid age')\n",
    "    else:\n",
    "        print(age)\n",
    "except ValueError as err:\n",
    "    print(err)\n",
    "    "
   ]
  },
  {
   "cell_type": "markdown",
   "metadata": {},
   "source": [
    "### 09) WAP to raise your custom Exception named InvalidUsernameError with the error message : \"Username must be between 5 and 15 characters long\":\n",
    "#### if the given name is having characters less than 5 or greater than 15.\n",
    "#### otherwise print the given username."
   ]
  },
  {
   "cell_type": "code",
   "execution_count": 42,
   "metadata": {},
   "outputs": [
    {
     "name": "stdin",
     "output_type": "stream",
     "text": [
      "Enter a username sjdhjshjsdhjskjdkshskfhs\n"
     ]
    },
    {
     "name": "stdout",
     "output_type": "stream",
     "text": [
      "Username must be between 5 and 15 characters long\n"
     ]
    }
   ],
   "source": [
    "class InvalidUsernameError(Exception):\n",
    "    def __init__(self,msg):\n",
    "        self.msg = msg\n",
    "try:\n",
    "    user_name = input('Enter a username')\n",
    "    if len(user_name) >= 5 and len(user_name) <= 15:\n",
    "        print('Username: ' , user_name)\n",
    "    else:\n",
    "        raise InvalidUsernameError('Username must be between 5 and 15 characters long')\n",
    "\n",
    "except InvalidUsernameError as err:\n",
    "    print(err)\n",
    "        "
   ]
  },
  {
   "cell_type": "markdown",
   "metadata": {},
   "source": [
    "### 10) WAP to raise your custom Exception named NegativeNumberError with the error message : \"Cannot calculate the square root of a negative number\" :\n",
    "#### if the given number is negative.\n",
    "#### otherwise print the square root of the given number."
   ]
  },
  {
   "cell_type": "code",
   "execution_count": 44,
   "metadata": {},
   "outputs": [
    {
     "name": "stdin",
     "output_type": "stream",
     "text": [
      "Enter a Number:  -4\n"
     ]
    },
    {
     "name": "stdout",
     "output_type": "stream",
     "text": [
      "Number is a negative\n"
     ]
    }
   ],
   "source": [
    "class NegativeSquareException(Exception):\n",
    "    def __init__(self , msg):\n",
    "        self.msg = msg\n",
    "\n",
    "try:\n",
    "    n = int(input('Enter a Number: '))\n",
    "    if(n < 0):\n",
    "        raise NegativeSquareException('Number is a negative')\n",
    "    else:\n",
    "        print(n ** 0.5)\n",
    "\n",
    "except NegativeSquareException as err:\n",
    "    print(err)"
   ]
  }
 ],
 "metadata": {
  "kernelspec": {
   "display_name": "Python 3 (ipykernel)",
   "language": "python",
   "name": "python3"
  },
  "language_info": {
   "codemirror_mode": {
    "name": "ipython",
    "version": 3
   },
   "file_extension": ".py",
   "mimetype": "text/x-python",
   "name": "python",
   "nbconvert_exporter": "python",
   "pygments_lexer": "ipython3",
   "version": "3.13.0"
  }
 },
 "nbformat": 4,
 "nbformat_minor": 4
}
