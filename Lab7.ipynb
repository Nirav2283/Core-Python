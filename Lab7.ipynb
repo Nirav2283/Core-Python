{
 "cells": [
  {
   "cell_type": "markdown",
   "metadata": {},
   "source": [
    "<a href='https://www.darshan.ac.in/'> <img src='https://www.darshan.ac.in/Content/media/DU_Logo.svg' width=\"250\" height=\"300\"/></a>\n",
    "<pre>\n",
    "<center><b><h1>Python Programming - 2301CS404</b></center>\n",
    "<center><b><h1>Lab - 7</b></center>\n",
    "<center><b><h1>Nirav Vaghasia | 23010101286 | CSE-4B (B1-315)</b></center> \n",
    "<pre>"
   ]
  },
  {
   "cell_type": "markdown",
   "metadata": {},
   "source": [
    "# Set & Dictionary"
   ]
  },
  {
   "cell_type": "markdown",
   "metadata": {},
   "source": [
    "### 01) WAP to iterate over a set."
   ]
  },
  {
   "cell_type": "code",
   "execution_count": 10,
   "metadata": {},
   "outputs": [
    {
     "name": "stdin",
     "output_type": "stream",
     "text": [
      "enter a number of element:  5\n",
      "enter a element 1 :  1\n",
      "enter a element 2 :  2\n",
      "enter a element 3 :  3\n",
      "enter a element 4 :  4\n",
      "enter a element 5 :  5\n"
     ]
    },
    {
     "name": "stdout",
     "output_type": "stream",
     "text": [
      "{1, 2, 3, 4, 5}\n",
      "values in a set: \n",
      "1 2 3 4 5 "
     ]
    }
   ],
   "source": [
    "n = int(input(\"enter a number of element: \"))\n",
    "list = []\n",
    "for i in range(n):\n",
    "    element = int(input(f\"enter a element {i+1} : \"))\n",
    "    list.append(element)\n",
    "s1 = set(list)\n",
    "print(s1)\n",
    "\n",
    "print(\"values in a set: \")\n",
    "for i in s1:\n",
    "    print(i , end = \" \")\n",
    "    "
   ]
  },
  {
   "cell_type": "markdown",
   "metadata": {},
   "source": [
    "### 02) WAP to convert set into list, string and tuple."
   ]
  },
  {
   "cell_type": "code",
   "execution_count": 8,
   "metadata": {},
   "outputs": [
    {
     "name": "stdout",
     "output_type": "stream",
     "text": [
      "List\n",
      "[1, 2, 3, 4, 5]\n",
      "String\n",
      "{1, 2, 3, 4, 5}\n",
      "Tuple\n",
      "12345"
     ]
    }
   ],
   "source": [
    "s1 = {1,2,3,4,5}\n",
    "\n",
    "l1 = list(s1)\n",
    "print(\"List\")\n",
    "print(l1)\n",
    "print(\"String\")\n",
    "print(str(s1))\n",
    "print(\"Tuple\")\n",
    "for i in s1:\n",
    "    print(str(i) , end = \"\")\n"
   ]
  },
  {
   "cell_type": "markdown",
   "metadata": {},
   "source": [
    "### 03) WAP to find Maximum and Minimum from a set."
   ]
  },
  {
   "cell_type": "code",
   "execution_count": 11,
   "metadata": {},
   "outputs": [
    {
     "name": "stdout",
     "output_type": "stream",
     "text": [
      "Max from set:  5\n",
      "Min from set:  1\n"
     ]
    }
   ],
   "source": [
    "s1 = {1,2,3,4,5}\n",
    "print(\"Max from set: \" , max(s1))\n",
    "print(\"Min from set: \" , min(s1))"
   ]
  },
  {
   "cell_type": "markdown",
   "metadata": {},
   "source": [
    "### 04) WAP to perform union of two sets."
   ]
  },
  {
   "cell_type": "code",
   "execution_count": 12,
   "metadata": {},
   "outputs": [
    {
     "name": "stdout",
     "output_type": "stream",
     "text": [
      "Union Of the Two set is:  {1, 2, 3, 4, 5, 6, 7, 8, 9, 10}\n"
     ]
    }
   ],
   "source": [
    "s1 = {1,2,3,4,5}\n",
    "s2 = {6,7,8,9,10}\n",
    "\n",
    "union = s1.union(s2)\n",
    "\n",
    "print(\"Union Of the Two set is: \" , union)"
   ]
  },
  {
   "cell_type": "markdown",
   "metadata": {},
   "source": [
    "### 05) WAP to check if two lists have at-least one element common."
   ]
  },
  {
   "cell_type": "code",
   "execution_count": 13,
   "metadata": {},
   "outputs": [
    {
     "name": "stdout",
     "output_type": "stream",
     "text": [
      "intersection of the set is:  {5, 7}\n"
     ]
    }
   ],
   "source": [
    "s1 = {1,2,3,5,7}\n",
    "s2 = {6,7,8,5,9,10}\n",
    "\n",
    "intersection_set = s1.intersection(s2)\n",
    "\n",
    "print(\"intersection of the set is: \" , intersection_set)"
   ]
  },
  {
   "cell_type": "markdown",
   "metadata": {},
   "source": [
    "### 06) WAP to remove duplicates from list."
   ]
  },
  {
   "cell_type": "code",
   "execution_count": 1,
   "metadata": {},
   "outputs": [
    {
     "name": "stdout",
     "output_type": "stream",
     "text": [
      "[1, 2, 3, 4, 5, 6, 7, 8, 9]\n"
     ]
    }
   ],
   "source": [
    "l1 = [1,1,2,3,4,4,5,6,7,8,8,9]\n",
    "print(list(set(l1)))\n"
   ]
  },
  {
   "cell_type": "markdown",
   "metadata": {},
   "source": [
    "### 07) WAP to find unique words in the given string."
   ]
  },
  {
   "cell_type": "code",
   "execution_count": 8,
   "metadata": {},
   "outputs": [
    {
     "name": "stdout",
     "output_type": "stream",
     "text": [
      "{'Darshan', 'Rajkot', 'University'}\n"
     ]
    }
   ],
   "source": [
    "s = \"Darshan University Rajkot Darshan\"\n",
    "words = s.split()\n",
    "print(set(words))"
   ]
  },
  {
   "cell_type": "markdown",
   "metadata": {},
   "source": [
    "### 08) WAP to remove common elements of set A & B from set A."
   ]
  },
  {
   "cell_type": "code",
   "execution_count": 12,
   "metadata": {},
   "outputs": [
    {
     "name": "stdout",
     "output_type": "stream",
     "text": [
      "intersection set:  {5, 7}\n",
      "new set:  {1, 2, 3}\n"
     ]
    }
   ],
   "source": [
    "a = {1,2,3,5,7}\n",
    "b = {6,7,8,5,9,10}\n",
    "\n",
    "intersection_set = a.intersection(b)\n",
    "print(\"intersection set: \" , intersection_set)\n",
    "a = a - intersection_set\n",
    "print(\"new set: \" , a)"
   ]
  },
  {
   "cell_type": "markdown",
   "metadata": {},
   "source": [
    "### 09) WAP to check whether two given strings are anagram or not using set."
   ]
  },
  {
   "cell_type": "code",
   "execution_count": 16,
   "metadata": {},
   "outputs": [
    {
     "name": "stdout",
     "output_type": "stream",
     "text": [
      "it is not an anagram\n"
     ]
    }
   ],
   "source": [
    "s1 = \"darshan\"\n",
    "s2 = \"ayush\"\n",
    "\n",
    "if set(s1) == set(s2):\n",
    "    print(\"it is an anagram\")\n",
    "else:\n",
    "    print(\"it is not an anagram\")"
   ]
  },
  {
   "cell_type": "markdown",
   "metadata": {},
   "source": [
    "### 10) WAP to find common elements in three lists using set."
   ]
  },
  {
   "cell_type": "code",
   "execution_count": 20,
   "metadata": {},
   "outputs": [
    {
     "name": "stdout",
     "output_type": "stream",
     "text": [
      "intersection of three set iss: \n",
      "{9, 3}\n"
     ]
    }
   ],
   "source": [
    "a = {1,2,3,6,7,9}\n",
    "b = {3,4,8,9,10,11,12}\n",
    "c = {1,3,5,7,9,5}\n",
    "intersection_set = a & b & c\n",
    "print(\"intersection of three set iss: \")\n",
    "print(intersection_set)"
   ]
  },
  {
   "cell_type": "markdown",
   "metadata": {},
   "source": [
    "### 11) WAP to count number of vowels in given string using set."
   ]
  },
  {
   "cell_type": "code",
   "execution_count": 22,
   "metadata": {},
   "outputs": [
    {
     "name": "stdout",
     "output_type": "stream",
     "text": [
      "Count of Vowel: \n",
      "2\n"
     ]
    }
   ],
   "source": [
    "s = \"Darshan\"\n",
    "vowels = {'a' , 'e' , 'i' , 'o' , 'u' , 'A' , 'E' , 'I' , 'O' , 'U'}\n",
    "count = 0\n",
    "for char in s:\n",
    "    if char in vowels:\n",
    "        count += 1\n",
    "\n",
    "print(\"Count of Vowel: \")\n",
    "print(count)\n",
    "        "
   ]
  },
  {
   "cell_type": "markdown",
   "metadata": {},
   "source": [
    "### 12) WAP to check if a given string is binary string or not."
   ]
  },
  {
   "cell_type": "code",
   "execution_count": 28,
   "metadata": {},
   "outputs": [
    {
     "name": "stdout",
     "output_type": "stream",
     "text": [
      "it is a binary string\n"
     ]
    }
   ],
   "source": [
    "s = \"101011201\"\n",
    "t = \"100101110\"\n",
    "binary = {'1', '0'}\n",
    "\n",
    "s1 = set(s)\n",
    "s2 = set(t)\n",
    "\n",
    "if s2.issubset(binary):\n",
    "    print(\"it is a binary string\")\n",
    "else:\n",
    "    print(\"it is not a binary string\")\n"
   ]
  },
  {
   "cell_type": "markdown",
   "metadata": {},
   "source": [
    "### 13) WAP to sort dictionary by key or value."
   ]
  },
  {
   "cell_type": "code",
   "execution_count": 3,
   "metadata": {},
   "outputs": [
    {
     "name": "stdout",
     "output_type": "stream",
     "text": [
      "Sort by key: {0: 'Zero', 1: 'One', 2: 'Two', 3: 'Three'}\n",
      "Sort by value: {'3': 1}\n"
     ]
    }
   ],
   "source": [
    "d1 = {2: 'Two',3: 'Three',1: 'One',0: 'Zero'}\n",
    "print('Sort by key:',dict(sorted(d1.items())))\n",
    "\n",
    "temp = {d[i]:i for i in d}\n",
    "temp = dict(sorted(temp.items()))\n",
    "d2 = {temp[i]:i for i in temp}\n",
    "print('Sort by value:',d2)"
   ]
  },
  {
   "cell_type": "markdown",
   "metadata": {},
   "source": [
    "### 14) WAP to find the sum of all items (values) in a dictionary given by user. (Assume: values are numeric)"
   ]
  },
  {
   "cell_type": "code",
   "execution_count": 2,
   "metadata": {},
   "outputs": [
    {
     "name": "stdin",
     "output_type": "stream",
     "text": [
      "Enter the number of items in dictionary: 3\n",
      "Enter key: 2\n",
      "Enter value of 2: 1\n",
      "Enter key: 3\n",
      "Enter value of 3: 1\n",
      "Enter key: 2\n",
      "Enter value of 2: 1\n"
     ]
    },
    {
     "name": "stdout",
     "output_type": "stream",
     "text": [
      "Sum of all items: 2\n"
     ]
    }
   ],
   "source": [
    "n = int(input('Enter the number of items in dictionary:'))\n",
    "d = {}\n",
    "\n",
    "for i in range(n):\n",
    "    key = input('Enter key:')\n",
    "    value = int(input(f'Enter value of {key}:'))\n",
    "    d[key] = value\n",
    "\n",
    "s = sum(d.values())\n",
    "print('Sum of all items:',s)"
   ]
  },
  {
   "cell_type": "markdown",
   "metadata": {},
   "source": [
    "### 15) WAP to handle missing keys in dictionaries.\n",
    "#### Example : Given, dict1 = {'a': 5, 'c': 8, 'e': 2} \n",
    "#### if you look for key = 'd', the message given should be 'Key Not Found', otherwise print the value of 'd' in dict1."
   ]
  },
  {
   "cell_type": "code",
   "execution_count": 4,
   "metadata": {},
   "outputs": [
    {
     "name": "stdout",
     "output_type": "stream",
     "text": [
      "Key Not Found\n"
     ]
    }
   ],
   "source": [
    "\n",
    "dict1 = {'a': 5, 'c': 8, 'e': 2}\n",
    "\n",
    "key = 'd'\n",
    "\n",
    "\n",
    "value = dict1.get(key, 'Key Not Found')\n",
    "\n",
    "print(value)\n"
   ]
  }
 ],
 "metadata": {
  "kernelspec": {
   "display_name": "Python 3 (ipykernel)",
   "language": "python",
   "name": "python3"
  },
  "language_info": {
   "codemirror_mode": {
    "name": "ipython",
    "version": 3
   },
   "file_extension": ".py",
   "mimetype": "text/x-python",
   "name": "python",
   "nbconvert_exporter": "python",
   "pygments_lexer": "ipython3",
   "version": "3.13.0"
  }
 },
 "nbformat": 4,
 "nbformat_minor": 4
}
