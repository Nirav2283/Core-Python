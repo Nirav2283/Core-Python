{
 "cells": [
  {
   "cell_type": "markdown",
   "metadata": {},
   "source": [
    "<a href='https://www.darshan.ac.in/'> <img src='https://www.darshan.ac.in/Content/media/DU_Logo.svg' width=\"250\" height=\"10\"/></a>\n",
    "<pre>\n",
    "<center><b><h1>Python Programming - 2301CS404</b></center>\n",
    "<center><b><h1>Lab - 1</b></center>    \n",
    "<center><b><h1>Nirav Vaghasia | 23010101286 | B1</b></center>\n",
    "<pre>"
   ]
  },
  {
   "cell_type": "markdown",
   "metadata": {},
   "source": [
    "### 01) WAP to print “Hello World”"
   ]
  },
  {
   "cell_type": "code",
   "execution_count": 4,
   "metadata": {},
   "outputs": [
    {
     "name": "stdout",
     "output_type": "stream",
     "text": [
      "Hello world\n"
     ]
    }
   ],
   "source": [
    "print(\"Hello world\")"
   ]
  },
  {
   "cell_type": "markdown",
   "metadata": {},
   "source": [
    "### 02) WAP to print addition of two numbers with and without using input()."
   ]
  },
  {
   "cell_type": "code",
   "execution_count": 3,
   "metadata": {},
   "outputs": [
    {
     "name": "stdout",
     "output_type": "stream",
     "text": [
      "Sum is :  15\n",
      "3\n"
     ]
    }
   ],
   "source": [
    "#without using input\n",
    "a,b = 10,5;\n",
    "print(\"Sum is : \" , a+b);\n",
    "\n",
    "a = int(input(\"Enter first Number : \"));\n",
    "b = int(input(\"Enter a second Number: \"));\n",
    "\n",
    "print(a+b);"
   ]
  },
  {
   "cell_type": "markdown",
   "metadata": {},
   "source": [
    "### 03) WAP to check the type of the variable."
   ]
  },
  {
   "cell_type": "code",
   "execution_count": null,
   "metadata": {},
   "outputs": [
    {
     "name": "stdout",
     "output_type": "stream",
     "text": [
      "<class 'str'>\n",
      "<class 'float'>\n",
      "<class 'int'>\n"
     ]
    }
   ],
   "source": [
    "a = \"Nirav\";\n",
    "b = 4.3;\n",
    "c = 4;\n",
    "\n",
    "print(type(a));\n",
    "print(type(b));\n",
    "print(type(c));"
   ]
  },
  {
   "cell_type": "markdown",
   "metadata": {},
   "source": [
    "### 04) WAP to calculate simple interest."
   ]
  },
  {
   "cell_type": "code",
   "execution_count": 5,
   "metadata": {},
   "outputs": [
    {
     "name": "stdout",
     "output_type": "stream",
     "text": [
      "250000.0\n"
     ]
    }
   ],
   "source": [
    "p = float(input(\"Enter a Principal: \"));\n",
    "r = float(input(\"Enter a Rate: \"));\n",
    "n = float(input(\"Enter a Time: \"));\n",
    "\n",
    "si = (p * r * n) / 100;\n",
    "print(si);"
   ]
  },
  {
   "cell_type": "markdown",
   "metadata": {},
   "source": [
    "### 05) WAP to calculate area and perimeter of a circle."
   ]
  },
  {
   "cell_type": "code",
   "execution_count": 1,
   "metadata": {},
   "outputs": [
    {
     "name": "stdout",
     "output_type": "stream",
     "text": [
      "Enter  a radius:  3.14\n"
     ]
    },
    {
     "name": "stdout",
     "output_type": "stream",
     "text": [
      "Area of circle:  30.959144000000002\n",
      "Perimeter of circle :  19.7192\n"
     ]
    }
   ],
   "source": [
    "r = float(input(\"Enter  a radius: \"));\n",
    "area = 3.14 * r * r;\n",
    "print(\"Area of circle: \" , area);\n",
    "per = 2 * 3.14 * r;\n",
    "print(\"Perimeter of circle : \" , per);\n"
   ]
  },
  {
   "cell_type": "markdown",
   "metadata": {},
   "source": [
    "### 06) WAP to calculate area of a triangle."
   ]
  },
  {
   "cell_type": "code",
   "execution_count": 2,
   "metadata": {},
   "outputs": [
    {
     "name": "stdout",
     "output_type": "stream",
     "text": [
      "Enter a base :  5\n",
      "Enter a Height:  6\n"
     ]
    },
    {
     "name": "stdout",
     "output_type": "stream",
     "text": [
      "Area of The Triangle:  15.0\n"
     ]
    }
   ],
   "source": [
    "base  = float(input(\"Enter a base : \"))\n",
    "height = float(input(\"Enter a Height: \"))\n",
    "area = 0.5 * base * height\n",
    "print(\"Area of The Triangle: \" , area)\n"
   ]
  },
  {
   "cell_type": "markdown",
   "metadata": {},
   "source": [
    "### 07) WAP to compute quotient and remainder."
   ]
  },
  {
   "cell_type": "code",
   "execution_count": 4,
   "metadata": {},
   "outputs": [
    {
     "name": "stdout",
     "output_type": "stream",
     "text": [
      "Quotient:  2.5\n",
      "Quotient: 2\n",
      "remainder:  1\n"
     ]
    }
   ],
   "source": [
    "a , b = 5,2;\n",
    "print(\"Quotient: \", a/b);\n",
    "print(f\"Quotient: {a//b}\");\n",
    "print(\"remainder: \" , a%b);\n"
   ]
  },
  {
   "cell_type": "markdown",
   "metadata": {},
   "source": [
    "### 08) WAP to convert degree into Fahrenheit and vice versa."
   ]
  },
  {
   "cell_type": "code",
   "execution_count": 5,
   "metadata": {},
   "outputs": [
    {
     "name": "stdout",
     "output_type": "stream",
     "text": [
      "Enter a celsius:  25\n"
     ]
    },
    {
     "name": "stdout",
     "output_type": "stream",
     "text": [
      "Degree to farhenhit:  77.0\n"
     ]
    },
    {
     "name": "stdout",
     "output_type": "stream",
     "text": [
      "Enter a farhenhit:  77\n"
     ]
    },
    {
     "name": "stdout",
     "output_type": "stream",
     "text": [
      "Farhemhit to Degree 25.0\n"
     ]
    }
   ],
   "source": [
    "#degree into farhenhit\n",
    "\n",
    "celsius = float(input(\"Enter a celsius: \"))\n",
    "farhenhit = (celsius * (9/5) ) + 32\n",
    "print(\"Degree to farhenhit: \" , farhenhit)\n",
    "\n",
    "#farhenhit into degree\n",
    "\n",
    "farhenhit = float(input(\"Enter a farhenhit: \"))\n",
    "celsius = (farhenhit - 32) * (5/9)\n",
    "print(\"Farhemhit to Degree\" , celsius)\n"
   ]
  },
  {
   "cell_type": "markdown",
   "metadata": {},
   "source": [
    "### 09) WAP to find the distance between two points in 2-D space."
   ]
  },
  {
   "cell_type": "code",
   "execution_count": 6,
   "metadata": {},
   "outputs": [
    {
     "name": "stdout",
     "output_type": "stream",
     "text": [
      "Enter a x1:  8\n",
      "Enter a x2:  5\n",
      "Enter a y1:  6\n",
      "Enter a y2:  3\n"
     ]
    },
    {
     "name": "stdout",
     "output_type": "stream",
     "text": [
      "Distance Between 2 point is :  3.4641016151377544\n"
     ]
    }
   ],
   "source": [
    "import math\n",
    "x1 = int(input(\"Enter a x1: \"))\n",
    "x2 = int(input(\"Enter a x2: \"))\n",
    "\n",
    "y1 = int(input(\"Enter a y1: \"))\n",
    "y2 = int(input(\"Enter a y2: \"))\n",
    "\n",
    "distance = math.sqrt(x1 - x2) + math.sqrt(y1 - y2)\n",
    "print(\"Distance Between 2 point is : \" ,distance)"
   ]
  },
  {
   "cell_type": "markdown",
   "metadata": {},
   "source": [
    "### 10) WAP to print sum of n natural numbers."
   ]
  },
  {
   "cell_type": "code",
   "execution_count": 7,
   "metadata": {},
   "outputs": [
    {
     "name": "stdout",
     "output_type": "stream",
     "text": [
      "enter a n:  10\n"
     ]
    },
    {
     "name": "stdout",
     "output_type": "stream",
     "text": [
      "55.0\n"
     ]
    }
   ],
   "source": [
    "n = int(input(\"enter a n: \"))\n",
    "sum = (n * (n+ 1)) / 2\n",
    "print(sum)\n",
    "\n"
   ]
  },
  {
   "cell_type": "markdown",
   "metadata": {},
   "source": [
    "### 11) WAP to print sum of square of n natural numbers."
   ]
  },
  {
   "cell_type": "code",
   "execution_count": 3,
   "metadata": {},
   "outputs": [
    {
     "name": "stdout",
     "output_type": "stream",
     "text": [
      "Enter a terms :  5\n"
     ]
    },
    {
     "name": "stdout",
     "output_type": "stream",
     "text": [
      "Sum of the Square of the number is:  55.0\n"
     ]
    }
   ],
   "source": [
    "n = int(input(\"Enter a terms : \"))\n",
    "sum=(n*(n+1)*(2*n+1))/6\n",
    "print(\"Sum of the Square of the number is: \" , sum)\n"
   ]
  },
  {
   "cell_type": "markdown",
   "metadata": {},
   "source": [
    "### 12) WAP to concate the first and last name of the student."
   ]
  },
  {
   "cell_type": "code",
   "execution_count": 8,
   "metadata": {},
   "outputs": [
    {
     "name": "stdout",
     "output_type": "stream",
     "text": [
      "Nirav Vaghasia\n"
     ]
    }
   ],
   "source": [
    "firstname = \"Nirav\"\n",
    "lastname = \"Vaghasia\"\n",
    "print(firstname , lastname)"
   ]
  },
  {
   "cell_type": "markdown",
   "metadata": {},
   "source": [
    "### 13) WAP to swap two numbers."
   ]
  },
  {
   "cell_type": "code",
   "execution_count": 10,
   "metadata": {},
   "outputs": [
    {
     "name": "stdout",
     "output_type": "stream",
     "text": [
      "Before Swap:  10 5\n",
      "After Swap:  5 10\n"
     ]
    }
   ],
   "source": [
    "a , b = 10 , 5;\n",
    "print(\"Before Swap: \" , a , b)\n",
    "a, b = b , a\n",
    "print(\"After Swap: \" , a ,b)"
   ]
  },
  {
   "cell_type": "markdown",
   "metadata": {},
   "source": [
    "### 14) WAP to get the distance from user into kilometer, and convert it into meter, feet, inches and centimeter."
   ]
  },
  {
   "cell_type": "code",
   "execution_count": 12,
   "metadata": {},
   "outputs": [
    {
     "name": "stdout",
     "output_type": "stream",
     "text": [
      "Enter Distance in kilometer: 5\n"
     ]
    },
    {
     "name": "stdout",
     "output_type": "stream",
     "text": [
      "5 km = 5000 m\n",
      "5 km = 500000 cm\n",
      "5 km = 16400.0 ft\n",
      "5 km = 196800.0 in\n"
     ]
    }
   ],
   "source": [
    "km=int(input(\"Enter Distance in kilometer:\"))\n",
    "print(f\"{km} km = {km*1000} m\")\n",
    "print(f\"{km} km = {km*1000*100} cm\")\n",
    "print(f\"{km} km = {km*1000*3.28} ft\")\n",
    "print(f\"{km} km = {km*1000*3.28*12} in\")"
   ]
  },
  {
   "cell_type": "markdown",
   "metadata": {},
   "source": [
    "### 15) WAP to get day, month and year from the user and print the date in the given format: 23-11-2024."
   ]
  },
  {
   "cell_type": "code",
   "execution_count": 14,
   "metadata": {},
   "outputs": [
    {
     "name": "stdout",
     "output_type": "stream",
     "text": [
      "Enter Day: 23\n",
      "Enter Month: 11\n",
      "Enter Year: 2024\n"
     ]
    },
    {
     "name": "stdout",
     "output_type": "stream",
     "text": [
      "23-11-2024\n"
     ]
    }
   ],
   "source": [
    "day=input(\"Enter Day:\")\n",
    "month=input(\"Enter Month:\")\n",
    "year=input(\"Enter Year:\")\n",
    "print(day,month,year,sep='-')"
   ]
  }
 ],
 "metadata": {
  "kernelspec": {
   "display_name": "Python 3",
   "language": "python",
   "name": "python3"
  },
  "language_info": {
   "codemirror_mode": {
    "name": "ipython",
    "version": 3
   },
   "file_extension": ".py",
   "mimetype": "text/x-python",
   "name": "python",
   "nbconvert_exporter": "python",
   "pygments_lexer": "ipython3",
   "version": "3.13.0"
  }
 },
 "nbformat": 4,
 "nbformat_minor": 4
}
