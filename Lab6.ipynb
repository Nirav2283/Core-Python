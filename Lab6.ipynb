{
 "cells": [
  {
   "attachments": {},
   "cell_type": "markdown",
   "metadata": {},
   "source": [
    "<a href='https://www.darshan.ac.in/'> <img src='https://www.darshan.ac.in/Content/media/DU_Logo.svg' width=\"250\" height=\"300\"/></a>\n",
    "<pre>\n",
    "<center><b><h1>Python Programming - 2301CS404</b></center>\n",
    "<center><b><h1>Lab - 6</b></center>\n",
    "<center><b><h1>Nirav Vgahasia|| 23010101286 || CSE-4B (B1-315)</b></center>\n",
    "<pre>"
   ]
  },
  {
   "cell_type": "markdown",
   "metadata": {},
   "source": [
    "# Tuple"
   ]
  },
  {
   "cell_type": "markdown",
   "metadata": {},
   "source": [
    "### 01) WAP to find sum of tuple elements."
   ]
  },
  {
   "cell_type": "code",
   "execution_count": 2,
   "metadata": {},
   "outputs": [
    {
     "name": "stdin",
     "output_type": "stream",
     "text": [
      "Enter a Size of Tuple:  5\n",
      "Enter a Element:  1\n",
      "Enter a Element:  2\n",
      "Enter a Element:  3\n",
      "Enter a Element:  4\n",
      "Enter a Element:  5\n"
     ]
    },
    {
     "name": "stdout",
     "output_type": "stream",
     "text": [
      "(1, 2, 3, 4, 5)\n",
      "Sum of tuple:  15\n"
     ]
    }
   ],
   "source": [
    "n = int(input(\"Enter a Size of Tuple: \"))\n",
    "list =[]\n",
    "for i in range(n):\n",
    "    element = int(input(\"Enter a Element: \"))\n",
    "    list.append(element)\n",
    "    tup = tuple(list)\n",
    "\n",
    "print(tup);\n",
    "print(\"Sum of tuple: \" , sum(tup))"
   ]
  },
  {
   "cell_type": "markdown",
   "metadata": {},
   "source": [
    "### 02) WAP to find Maximum and Minimum K elements in a given tuple."
   ]
  },
  {
   "cell_type": "code",
   "execution_count": 7,
   "metadata": {},
   "outputs": [
    {
     "name": "stdout",
     "output_type": "stream",
     "text": [
      "(1, 3, 4, 6, 10, 20)\n"
     ]
    },
    {
     "name": "stdin",
     "output_type": "stream",
     "text": [
      "Enter a K:  3\n"
     ]
    },
    {
     "name": "stdout",
     "output_type": "stream",
     "text": [
      "(6, 10, 20)\n",
      "(1, 3, 4)\n"
     ]
    }
   ],
   "source": [
    "tup = (20,3,10,4,6,1)\n",
    "sorted_tup = sorted(tup)\n",
    "print(tuple(sorted_tup))\n",
    "\n",
    "k = int(input(\"Enter a K: \"))\n",
    "\n",
    "min_element = sorted_tup[:k]\n",
    "max_element = sorted_tup[-k:]\n",
    "\n",
    "print(tuple(max_element))\n",
    "print(tuple(min_element))\n"
   ]
  },
  {
   "cell_type": "markdown",
   "metadata": {},
   "source": [
    "### 03) WAP to find tuples which have all elements divisible by K from a list of tuples."
   ]
  },
  {
   "cell_type": "code",
   "execution_count": 11,
   "metadata": {},
   "outputs": [
    {
     "name": "stdin",
     "output_type": "stream",
     "text": [
      "Enter a Size of the List:  3\n",
      "Enter a size of 1 tuple:  2\n",
      "Enter a Element:  4\n",
      "Enter a Element:  8\n",
      "Enter a size of 2 tuple:  3\n",
      "Enter a Element:  10\n",
      "Enter a Element:  15\n",
      "Enter a Element:  20\n",
      "Enter a size of 3 tuple:  3\n",
      "Enter a Element:  2\n",
      "Enter a Element:  8\n",
      "Enter a Element:  7\n"
     ]
    },
    {
     "name": "stdout",
     "output_type": "stream",
     "text": [
      "[(4, 8), (10, 15, 20), (2, 8, 7)]\n"
     ]
    },
    {
     "name": "stdin",
     "output_type": "stream",
     "text": [
      "Enter a K: 2\n"
     ]
    },
    {
     "name": "stdout",
     "output_type": "stream",
     "text": [
      "list of Tuple divisible by 2 is : \n",
      "[(4, 8)]\n"
     ]
    }
   ],
   "source": [
    "#get a list of tuple from user\n",
    "n = int(input(\"Enter a Size of the List: \"))\n",
    "list1 = []\n",
    "for i in range (n):\n",
    "    m = int(input(f\"Enter a size of {i + 1} tuple: \"))\n",
    "    list2 = []\n",
    "    for j in range(m):\n",
    "        element = int(input(\"Enter a Element: \"))\n",
    "        list2.append(element)\n",
    "    tup = tuple(list2)\n",
    "    list1.append(tup)\n",
    "print(list1)\n",
    "\n",
    "k = int(input(\"Enter a K:\"))\n",
    "divisible_tuple = [i for i in list1 if all (x % k == 0 for x in i)]\n",
    "print(f\"list of Tuple divisible by {k} is : \")\n",
    "print(divisible_tuple)"
   ]
  },
  {
   "cell_type": "markdown",
   "metadata": {},
   "source": [
    "### 04) WAP to create a list of tuples from given list having number and its cube in each tuple."
   ]
  },
  {
   "cell_type": "code",
   "execution_count": 12,
   "metadata": {},
   "outputs": [
    {
     "name": "stdout",
     "output_type": "stream",
     "text": [
      "[(1, 1), (2, 8), (3, 27), (4, 64), (5, 125)]\n"
     ]
    }
   ],
   "source": [
    "tup = (1,2,3,4,5)\n",
    "\n",
    "cubic_tuple = [(i , i ** 3) for i in tup ]\n",
    "print(cubic_tuple)"
   ]
  },
  {
   "cell_type": "markdown",
   "metadata": {},
   "source": [
    "### 05) WAP to find tuples with all positive elements from the given list of tuples."
   ]
  },
  {
   "cell_type": "code",
   "execution_count": 21,
   "metadata": {},
   "outputs": [
    {
     "name": "stdin",
     "output_type": "stream",
     "text": [
      "Enter a Size of the List:  2\n",
      "Enter a size of 1 tuple:  2\n",
      "Enter a Element:  -2\n",
      "Enter a Element:  3\n",
      "Enter a size of 2 tuple:  4\n",
      "Enter a Element:  10\n",
      "Enter a Element:  12\n",
      "Enter a Element:  16\n",
      "Enter a Element:  8\n"
     ]
    },
    {
     "name": "stdout",
     "output_type": "stream",
     "text": [
      "[(-2, 3), (10, 12, 16, 8)]\n",
      "[(10, 12, 16, 8)]\n"
     ]
    }
   ],
   "source": [
    "n = int(input(\"Enter a Size of the List: \"))\n",
    "list1 = []\n",
    "for i in range (n):\n",
    "    m = int(input(f\"Enter a size of {i + 1} tuple: \"))\n",
    "    list2 = []\n",
    "    for j in range(m):\n",
    "        element = int(input(\"Enter a Element: \"))\n",
    "        list2.append(element)\n",
    "    tup = tuple(list2)\n",
    "    list1.append(tup)\n",
    "print(list1)\n",
    "\n",
    "positive_tup = [i for i in list1 if all(x > 0 for x in i)]\n",
    "print(positive_tup)"
   ]
  },
  {
   "cell_type": "markdown",
   "metadata": {},
   "source": [
    "### 06) WAP to add tuple to list and vice – versa."
   ]
  },
  {
   "cell_type": "code",
   "execution_count": 36,
   "metadata": {},
   "outputs": [
    {
     "name": "stdout",
     "output_type": "stream",
     "text": [
      "[10, 20, 30, 40, 50, (1, 2, 3, 4, 5)]\n",
      "(1, 2, 3, 4, 5, 3, 4, 5, 6, 7)\n"
     ]
    }
   ],
   "source": [
    "# add tuple to list\n",
    "list1 = [10,20,30,40,50]\n",
    "tuple1 = (1,2,3,4,5)\n",
    "\n",
    "list1.append(tuple1)\n",
    "print(list1)\n",
    "\n",
    "#add list to tuple\n",
    "list2 = [3,4,5,6,7]\n",
    "\n",
    "new_tuple = tuple1 + tuple(list2)\n",
    "print(new_tuple)"
   ]
  },
  {
   "cell_type": "markdown",
   "metadata": {},
   "source": [
    "### 07) WAP to remove tuples of length K."
   ]
  },
  {
   "cell_type": "code",
   "execution_count": 41,
   "metadata": {},
   "outputs": [
    {
     "name": "stdout",
     "output_type": "stream",
     "text": [
      "[(1, 2, 3), (10, 12, 13, 16), (15, 18, 20, 22, 24)]\n"
     ]
    }
   ],
   "source": [
    "tup = [(1,2,3) , (10,12,13,16) , (3,1) , (15,18,20,22,24)]\n",
    "\n",
    "k = 2\n",
    "new_list = [i for i in tup if len(i) != k]\n",
    "print(new_list)"
   ]
  },
  {
   "cell_type": "markdown",
   "metadata": {},
   "source": [
    "### 08) WAP to remove duplicates from tuple."
   ]
  },
  {
   "cell_type": "code",
   "execution_count": 38,
   "metadata": {},
   "outputs": [
    {
     "name": "stdout",
     "output_type": "stream",
     "text": [
      "(1, 2, 3, 4, 5, 6, 7, 8, 9, 10)\n"
     ]
    }
   ],
   "source": [
    "tup = (1,1,1,2,3,4,4,5,6,6,7,8,9,10,10)\n",
    "\n",
    "new_tuple = set(tup)\n",
    "print(tuple(new_tuple))"
   ]
  },
  {
   "cell_type": "markdown",
   "metadata": {},
   "source": [
    "### 09) WAP to multiply adjacent elements of a tuple and print that resultant tuple."
   ]
  },
  {
   "cell_type": "code",
   "execution_count": 47,
   "metadata": {},
   "outputs": [
    {
     "name": "stdout",
     "output_type": "stream",
     "text": [
      "(2, 6, 12, 20)\n"
     ]
    }
   ],
   "source": [
    "tup = [1,2,3,4,5]\n",
    "new = [tup[i] * tup[i + 1] for i in range(len(tup) - 1)]\n",
    "print(tuple(new))"
   ]
  },
  {
   "cell_type": "markdown",
   "metadata": {},
   "source": [
    "### 10) WAP to test if the given tuple is distinct or not."
   ]
  },
  {
   "cell_type": "code",
   "execution_count": 51,
   "metadata": {},
   "outputs": [
    {
     "name": "stdout",
     "output_type": "stream",
     "text": [
      "Not Distinct\n"
     ]
    }
   ],
   "source": [
    "tup = (1,2,3,4,5,6,6,8)\n",
    "tup2 = (1,2,3,4,5,6)\n",
    "\n",
    "if len(tup) == len(set(tup)):\n",
    "    print(\"Distnict tuple\")\n",
    "else:\n",
    "    print(\"Not Distinct\")"
   ]
  }
 ],
 "metadata": {
  "kernelspec": {
   "display_name": "Python 3 (ipykernel)",
   "language": "python",
   "name": "python3"
  },
  "language_info": {
   "codemirror_mode": {
    "name": "ipython",
    "version": 3
   },
   "file_extension": ".py",
   "mimetype": "text/x-python",
   "name": "python",
   "nbconvert_exporter": "python",
   "pygments_lexer": "ipython3",
   "version": "3.13.0"
  }
 },
 "nbformat": 4,
 "nbformat_minor": 4
}
