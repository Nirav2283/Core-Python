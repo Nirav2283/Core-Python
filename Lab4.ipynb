{
 "cells": [
  {
   "cell_type": "markdown",
   "metadata": {},
   "source": [
    "\n",
    "<a href='https://www.darshan.ac.in/'> <img src='https://www.darshan.ac.in/Content/media/DU_Logo.svg' width=\"250\" height=\"300\"/></a>\n",
    "<pre>\n",
    "<center><b><h1>Python Programming - 2301CS404</b></center>\n",
    "<center><b><h1>Lab - 4</b></center>    \n",
    "<pre>"
   ]
  },
  {
   "cell_type": "markdown",
   "metadata": {},
   "source": [
    "# String"
   ]
  },
  {
   "cell_type": "markdown",
   "metadata": {},
   "source": [
    "### 01) WAP to check whether the given string is palindrome or not."
   ]
  },
  {
   "cell_type": "code",
   "execution_count": 5,
   "metadata": {},
   "outputs": [
    {
     "name": "stdin",
     "output_type": "stream",
     "text": [
      "Enter a String:  eye\n"
     ]
    },
    {
     "name": "stdout",
     "output_type": "stream",
     "text": [
      "Palindrome\n"
     ]
    }
   ],
   "source": [
    "s = input(\"Enter a String: \")\n",
    "if s == s[::-1]:\n",
    "    print(\"Palindrome\")\n",
    "else:\n",
    "    print(\"Not Palindrome\")"
   ]
  },
  {
   "cell_type": "markdown",
   "metadata": {},
   "source": [
    "### 02) WAP to reverse the words in the given string."
   ]
  },
  {
   "cell_type": "code",
   "execution_count": 15,
   "metadata": {},
   "outputs": [
    {
     "name": "stdin",
     "output_type": "stream",
     "text": [
      "Enter a String:  abc def\n"
     ]
    },
    {
     "name": "stdout",
     "output_type": "stream",
     "text": [
      "def abc\n",
      "cba fed\n"
     ]
    }
   ],
   "source": [
    "s = input(\"Enter a String: \")\n",
    "n = s.split(\" \")\n",
    "n.reverse()\n",
    "s = \" \".join(n)\n",
    "print(s)\n",
    "\n",
    "#second type\n",
    "s = \"abc def\"\n",
    "words = s.split()\n",
    "r = ' '.join([word[::-1] for word in words])\n",
    "print(r)\n"
   ]
  },
  {
   "cell_type": "markdown",
   "metadata": {},
   "source": [
    "### 03) WAP to remove ith character from given string."
   ]
  },
  {
   "cell_type": "code",
   "execution_count": 16,
   "metadata": {},
   "outputs": [
    {
     "name": "stdin",
     "output_type": "stream",
     "text": [
      "Enter a string:  Nirav\n",
      "Enter a index:  2\n"
     ]
    },
    {
     "name": "stdout",
     "output_type": "stream",
     "text": [
      "Niav\n"
     ]
    }
   ],
   "source": [
    "s = input(\"Enter a string: \")\n",
    "i = int(input(\"Enter a index: \"))\n",
    "ans = s[0:i:1] + s[i+1::]\n",
    "print(ans)\n"
   ]
  },
  {
   "cell_type": "markdown",
   "metadata": {},
   "source": [
    "### 04) WAP to find length of string without using len function."
   ]
  },
  {
   "cell_type": "code",
   "execution_count": 18,
   "metadata": {},
   "outputs": [
    {
     "name": "stdin",
     "output_type": "stream",
     "text": [
      "Enter a string:  Nirav\n"
     ]
    },
    {
     "name": "stdout",
     "output_type": "stream",
     "text": [
      "5\n"
     ]
    }
   ],
   "source": [
    "str = input(\"Enter a string: \")\n",
    "len = 0 \n",
    "for i in str:\n",
    "    len += 1\n",
    "print(len)"
   ]
  },
  {
   "cell_type": "markdown",
   "metadata": {},
   "source": [
    "### 05) WAP to print even length word in string."
   ]
  },
  {
   "cell_type": "code",
   "execution_count": 3,
   "metadata": {},
   "outputs": [
    {
     "name": "stdin",
     "output_type": "stream",
     "text": [
      "Enter a String:  Nirav Bhai\n"
     ]
    },
    {
     "name": "stdout",
     "output_type": "stream",
     "text": [
      "Bhai\n"
     ]
    }
   ],
   "source": [
    "s = input(\"Enter a String: \")\n",
    "word = s.split(\" \")\n",
    "for i in word:\n",
    "    if len(i) % 2 == 0:\n",
    "        print(i)"
   ]
  },
  {
   "cell_type": "markdown",
   "metadata": {},
   "source": [
    "### 06) WAP to count numbers of vowels in given string."
   ]
  },
  {
   "cell_type": "code",
   "execution_count": 9,
   "metadata": {},
   "outputs": [
    {
     "name": "stdin",
     "output_type": "stream",
     "text": [
      "Enter String Nirav\n"
     ]
    },
    {
     "name": "stdout",
     "output_type": "stream",
     "text": [
      "Numbers of Vowels :  2\n"
     ]
    }
   ],
   "source": [
    "s=input(\"Enter String\")\n",
    "vowels='aeiou'\n",
    "count=0\n",
    "for i in s:\n",
    "    if i in vowels:\n",
    "        count+=1\n",
    "print(\"Numbers of Vowels : \",count)"
   ]
  },
  {
   "cell_type": "markdown",
   "metadata": {},
   "source": [
    "### 07) WAP to capitalize the first and last character of each word in a string."
   ]
  },
  {
   "cell_type": "code",
   "execution_count": 6,
   "metadata": {},
   "outputs": [
    {
     "name": "stdin",
     "output_type": "stream",
     "text": [
      "Enter a string:  darshan university\n"
     ]
    },
    {
     "name": "stdout",
     "output_type": "stream",
     "text": [
      "DarshaN UniversitY \n"
     ]
    }
   ],
   "source": [
    "s = input(\"Enter a string: \")\n",
    "z = s.split()\n",
    "new = \"\"\n",
    "for i in z:\n",
    "    g = i.replace(i[0] , i[0].upper())\n",
    "    e = len(i)\n",
    "    h = g.replace(i[e-1] , i[e-1].upper())\n",
    "    new += h;\n",
    "    new += \" \"\n",
    "print(new)\n",
    "\n"
   ]
  },
  {
   "cell_type": "markdown",
   "metadata": {},
   "source": [
    "### 08) WAP to convert given array to string."
   ]
  },
  {
   "cell_type": "code",
   "execution_count": 6,
   "metadata": {},
   "outputs": [
    {
     "name": "stdout",
     "output_type": "stream",
     "text": [
      "hi i am Nirav Pursuing B.tech in Sem 4\n"
     ]
    }
   ],
   "source": [
    "arr = [\"hi\" , \"i am\" , \"Nirav\" , \"Pursuing B.tech in Sem\" , 4]\n",
    "new = \" \".join([str(s) for s in arr])\n",
    "print(new)\n"
   ]
  },
  {
   "cell_type": "markdown",
   "metadata": {},
   "source": [
    "### 09) Check if the password and confirm password is same or not. \n",
    "### In case of only case's mistake, show the error message."
   ]
  },
  {
   "cell_type": "code",
   "execution_count": 3,
   "metadata": {},
   "outputs": [
    {
     "name": "stdin",
     "output_type": "stream",
     "text": [
      "Enter a Password:  nirav\n",
      "Enter a Confirm Password:  Nirav\n"
     ]
    },
    {
     "name": "stdout",
     "output_type": "stream",
     "text": [
      "Fix case mistake at position 1: 'n' vs 'N'\n"
     ]
    }
   ],
   "source": [
    "s1 = input(\"Enter a Password: \") \n",
    "s2 = input(\"Enter a Confirm Password: \")\n",
    "\n",
    "if s1 == s2:\n",
    "    print(\"Password is Same\")\n",
    "else:\n",
    "    for i in range(0, min(len(s1), len(s2))):\n",
    "        if s1[i].upper() == s2[i] or s1[i].lower() == s2[i]:\n",
    "            print(f\"Fix case mistake at position {i+1}: '{s1[i]}' vs '{s2[i]}'\")\n",
    "            break\n",
    "    else:\n",
    "        print(\"Passwords are different in structure, not just case.\")\n"
   ]
  },
  {
   "cell_type": "markdown",
   "metadata": {},
   "source": [
    "### 10) : Display credit card number. \n",
    "### card no. : 1234 5678 9012 3456\n",
    "### display as  : **** **** **** 3456"
   ]
  },
  {
   "cell_type": "code",
   "execution_count": 7,
   "metadata": {},
   "outputs": [
    {
     "name": "stdin",
     "output_type": "stream",
     "text": [
      "Enter a Credit Card Number:  1234 5678 9012 3456\n"
     ]
    },
    {
     "name": "stdout",
     "output_type": "stream",
     "text": [
      "**** **** **** 3456\n"
     ]
    }
   ],
   "source": [
    "s1 = input(\"Enter a Credit Card Number: \")\n",
    "t = s1.split()\n",
    "m = \"\"\n",
    "for i in range(0,3):\n",
    "    l=t[i].replace(t[i],\"****\")\n",
    "    m += l\n",
    "    m += \" \"\n",
    "m += t[3]\n",
    "print(m)\n",
    "    "
   ]
  },
  {
   "cell_type": "markdown",
   "metadata": {},
   "source": [
    "### 11) : Checking if the two strings are Anagram or not.\n",
    "### s1 = decimal and s2 = medical are Anagram"
   ]
  },
  {
   "cell_type": "code",
   "execution_count": 8,
   "metadata": {},
   "outputs": [
    {
     "name": "stdin",
     "output_type": "stream",
     "text": [
      "enter string:  decimal\n",
      "enter string:  medical\n"
     ]
    },
    {
     "name": "stdout",
     "output_type": "stream",
     "text": [
      "anagram\n"
     ]
    }
   ],
   "source": [
    "s1 = input(\"enter string: \")\n",
    "s2 = input(\"enter string: \")\n",
    "\n",
    "if(len(s1) == len(s2)):\n",
    "    for i in range(0, len(s1)):\n",
    "        flag=False\n",
    "        for n in range(0,len(s2)):\n",
    "            if(s1[i]==s2[n]):\n",
    "                flag = True\n",
    "                break;\n",
    "        if(flag==False):\n",
    "            print(\"Not anagram\")\n",
    "            break\n",
    "    print(\"anagram\")\n",
    "else: \n",
    "    print(\"Not anagram\")"
   ]
  },
  {
   "cell_type": "markdown",
   "metadata": {},
   "source": [
    "### 12) : Rearrange the given string. First lowercase then uppercase alphabets.\n",
    "### input : EHlsarwiwhtwMV\n",
    "### output : lsarwiwhtwEHMV"
   ]
  },
  {
   "cell_type": "code",
   "execution_count": 15,
   "metadata": {},
   "outputs": [
    {
     "name": "stdin",
     "output_type": "stream",
     "text": [
      "enter string:  EHlsarwiwhtwMV\n"
     ]
    },
    {
     "name": "stdout",
     "output_type": "stream",
     "text": [
      "lsarwiwhtwEHMV\n"
     ]
    }
   ],
   "source": [
    "s1 = input(\"enter string: \")\n",
    "upper=\"\"\n",
    "lower = \"\"\n",
    "for i in range(0 , len(s1)):\n",
    "    if(s1[i].islower()):\n",
    "        lower += s1[i]\n",
    "    else:\n",
    "        upper += s1[i]\n",
    "result = lower + upper\n",
    "print(result)"
   ]
  },
  {
   "cell_type": "code",
   "execution_count": null,
   "metadata": {},
   "outputs": [],
   "source": []
  }
 ],
 "metadata": {
  "kernelspec": {
   "display_name": "Python 3 (ipykernel)",
   "language": "python",
   "name": "python3"
  },
  "language_info": {
   "codemirror_mode": {
    "name": "ipython",
    "version": 3
   },
   "file_extension": ".py",
   "mimetype": "text/x-python",
   "name": "python",
   "nbconvert_exporter": "python",
   "pygments_lexer": "ipython3",
   "version": "3.13.0"
  },
  "vscode": {
   "interpreter": {
    "hash": "31f2aee4e71d21fbe5cf8b01ff0e069b9275f58929596ceb00d14d90e3e16cd6"
   }
  }
 },
 "nbformat": 4,
 "nbformat_minor": 4
}
