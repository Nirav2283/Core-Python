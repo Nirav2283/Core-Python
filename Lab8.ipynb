{
 "cells": [
  {
   "cell_type": "markdown",
   "metadata": {},
   "source": [
    "<a href='https://www.darshan.ac.in/'> <img src='https://www.darshan.ac.in/Content/media/DU_Logo.svg' width=\"250\" height=\"300\"/></a>\n",
    "<pre>\n",
    "<center><b><h1>Python Programming - 2301CS404</b></center>\n",
    "<center><b><h1>Lab - 8</b></center>\n",
    "<center><b><h1>Nirav vaghasia | 23010101286 | CSE - 4B (B1 - 315)</b></center>\n",
    "<pre>"
   ]
  },
  {
   "cell_type": "markdown",
   "metadata": {},
   "source": [
    "# User Defined Function"
   ]
  },
  {
   "cell_type": "markdown",
   "metadata": {},
   "source": [
    "### 01) Write a function to calculate BMI given mass and height. (BMI = mass/h**2)"
   ]
  },
  {
   "cell_type": "code",
   "execution_count": 1,
   "metadata": {},
   "outputs": [
    {
     "name": "stdin",
     "output_type": "stream",
     "text": [
      "Enter a Mass:  53\n",
      "Enter a height:  175\n"
     ]
    },
    {
     "name": "stdout",
     "output_type": "stream",
     "text": [
      "BMI is: \n",
      "0.0017306122448979592\n"
     ]
    }
   ],
   "source": [
    "def calculate_bmi(mass , height):\n",
    "    bmi = mass / (height ** 2)\n",
    "    return bmi\n",
    "\n",
    "m = float(input(\"Enter a Mass: \"))\n",
    "h = float(input(\"Enter a height: \"))\n",
    "print(\"BMI is: \")\n",
    "bmi = calculate_bmi(m , h)\n",
    "print(float(bmi))    "
   ]
  },
  {
   "cell_type": "markdown",
   "metadata": {},
   "source": [
    "### 02) Write a function that add first n numbers."
   ]
  },
  {
   "cell_type": "code",
   "execution_count": 3,
   "metadata": {},
   "outputs": [
    {
     "name": "stdin",
     "output_type": "stream",
     "text": [
      "Enter a Number:   10\n"
     ]
    },
    {
     "name": "stdout",
     "output_type": "stream",
     "text": [
      "Sum of the 1 to 10 is: \n",
      "55\n"
     ]
    }
   ],
   "source": [
    "def add_num(n):\n",
    "    return n * (n + 1) // 2\n",
    "\n",
    "n = int(input(\"Enter a Number:  \"))\n",
    "sum = add_num(n)\n",
    "print(\"Sum of the 1 to\" , n , \"is: \")\n",
    "print(sum)"
   ]
  },
  {
   "cell_type": "markdown",
   "metadata": {},
   "source": [
    "### 03) Write a function that returns 1 if the given number is Prime or 0 otherwise."
   ]
  },
  {
   "cell_type": "code",
   "execution_count": 4,
   "metadata": {},
   "outputs": [
    {
     "name": "stdin",
     "output_type": "stream",
     "text": [
      "Enter a Number:  7\n"
     ]
    },
    {
     "name": "stdout",
     "output_type": "stream",
     "text": [
      "1\n"
     ]
    }
   ],
   "source": [
    "def prime_num(n):\n",
    "    if n <= 0:\n",
    "        return 0\n",
    "    for i in range(2 , int(n * 0.5) + 1):\n",
    "        if n % i == 0:\n",
    "            return 0\n",
    "        return 1\n",
    "\n",
    "n = int(input(\"Enter a Number: \"))\n",
    "print(prime_num(n))"
   ]
  },
  {
   "cell_type": "markdown",
   "metadata": {},
   "source": [
    "### 04) Write a function that returns the list of Prime numbers between given two numbers."
   ]
  },
  {
   "cell_type": "code",
   "execution_count": 10,
   "metadata": {},
   "outputs": [
    {
     "name": "stdin",
     "output_type": "stream",
     "text": [
      "Enter a starting Number:  10\n",
      "Enter a Ending Number:  20\n"
     ]
    },
    {
     "name": "stdout",
     "output_type": "stream",
     "text": [
      "[11, 13, 17, 19]\n"
     ]
    }
   ],
   "source": [
    "def is_prime(n):\n",
    "\n",
    "    if n <= 1:\n",
    "        return False\n",
    "    for i in range(2, int(n**0.5) + 1):\n",
    "        if n % i == 0:\n",
    "            return False\n",
    "    return True\n",
    "\n",
    "def list_of_prime(start , end):\n",
    "    prime_list = []\n",
    "    for n in range(start , end + 1):\n",
    "        if is_prime(n):\n",
    "            prime_list.append(n)\n",
    "    return prime_list\n",
    "\n",
    "start = int(input(\"Enter a starting Number: \"))\n",
    "end = int(input(\"Enter a Ending Number: \"))\n",
    "\n",
    "prime_list = list_of_prime(start , end)\n",
    "print(prime_list)\n"
   ]
  },
  {
   "cell_type": "markdown",
   "metadata": {},
   "source": [
    "### 05) Write a function that returns True if the given string is Palindrome or False otherwise."
   ]
  },
  {
   "cell_type": "code",
   "execution_count": 3,
   "metadata": {},
   "outputs": [
    {
     "name": "stdin",
     "output_type": "stream",
     "text": [
      "Enter a String:  Eye\n"
     ]
    },
    {
     "name": "stdout",
     "output_type": "stream",
     "text": [
      "True\n"
     ]
    }
   ],
   "source": [
    "def check_palindrome(s):\n",
    "    s = s.replace(\" \", \"\").lower()\n",
    "    return s == s[::-1]\n",
    "\n",
    "n = input(\"Enter a String: \")\n",
    "print(check_palindrome(n))\n"
   ]
  },
  {
   "cell_type": "markdown",
   "metadata": {},
   "source": [
    "### 06) Write a function that returns the sum of all the elements of the list."
   ]
  },
  {
   "cell_type": "code",
   "execution_count": 4,
   "metadata": {},
   "outputs": [
    {
     "name": "stdin",
     "output_type": "stream",
     "text": [
      "Enter elements of the list separated by spaces:  10 20 30 40 50\n"
     ]
    },
    {
     "name": "stdout",
     "output_type": "stream",
     "text": [
      "150.0\n"
     ]
    }
   ],
   "source": [
    "def sum_all_element(l):\n",
    "    return sum(l)\n",
    "\n",
    "numbers = list(map(float, input(\"Enter elements of the list separated by spaces: \").split()))\n",
    "print(sum_all_element(numbers))\n"
   ]
  },
  {
   "cell_type": "markdown",
   "metadata": {},
   "source": [
    "### 07) Write a function to calculate the sum of the first element of each tuples inside the list."
   ]
  },
  {
   "cell_type": "code",
   "execution_count": 7,
   "metadata": {},
   "outputs": [
    {
     "name": "stdout",
     "output_type": "stream",
     "text": [
      "Sum of the first element of each tuples inside the list: \n",
      "12\n"
     ]
    }
   ],
   "source": [
    "def tuple_sum(tup):\n",
    "    return sum(t[0] for t in tup)\n",
    "\n",
    "tuple_list = [(1,2,3) , (4,5,6) , (7,8,9)]\n",
    "print(\"Sum of the first element of each tuples inside the list: \")\n",
    "print(tuple_sum(tuple_list))"
   ]
  },
  {
   "cell_type": "markdown",
   "metadata": {},
   "source": [
    "### 08) Write a recursive function to find nth term of Fibonacci Series."
   ]
  },
  {
   "cell_type": "code",
   "execution_count": 11,
   "metadata": {},
   "outputs": [
    {
     "name": "stdin",
     "output_type": "stream",
     "text": [
      "enter a number:  11\n"
     ]
    },
    {
     "name": "stdout",
     "output_type": "stream",
     "text": [
      "89\n"
     ]
    }
   ],
   "source": [
    "def fibonacci(n):\n",
    "    if n <= 0:\n",
    "        return 0\n",
    "    elif n == 1:\n",
    "        return 1\n",
    "    else:\n",
    "        return fibonacci(n - 1) + fibonacci(n - 2)\n",
    "\n",
    "num = int(input(\"enter a number: \"))\n",
    "print(fibonacci(num))"
   ]
  },
  {
   "cell_type": "markdown",
   "metadata": {},
   "source": [
    "### 09) Write a function to get the name of the student based on the given rollno.\n",
    "#### Example: Given dict1 = {101:'Ajay', 102:'Rahul', 103:'Jay', 104:'Pooja'} find name of student whose rollno = 103"
   ]
  },
  {
   "cell_type": "code",
   "execution_count": 12,
   "metadata": {},
   "outputs": [
    {
     "name": "stdout",
     "output_type": "stream",
     "text": [
      "Jay\n"
     ]
    }
   ],
   "source": [
    "def get_student_name(rno , stu_dict):\n",
    "    return stu_dict.get(rno , \"RollNo not found\")\n",
    "\n",
    "student_dict = {101:'Ajay', 102:'Rahul', 103:'Jay', 104:'Pooja'}\n",
    "print(get_student_name(103 , student_dict))"
   ]
  },
  {
   "cell_type": "markdown",
   "metadata": {},
   "source": [
    "### 10) Write a function to get the sum of the scores ending with zero.\n",
    "#### Example : scores = [200, 456, 300, 100, 234, 678] \n",
    "#### Ans = 200 + 300 + 100 = 600"
   ]
  },
  {
   "cell_type": "code",
   "execution_count": 13,
   "metadata": {},
   "outputs": [
    {
     "name": "stdout",
     "output_type": "stream",
     "text": [
      "The sum of scores ending with zero is: 600\n"
     ]
    }
   ],
   "source": [
    "def sum_of_scores_ending_with_zero(scores):\n",
    "    return sum(score for score in scores if score % 10 == 0)\n",
    "scores = [200, 456, 300, 100, 234, 678]\n",
    "result = sum_of_scores_ending_with_zero(scores)\n",
    "print(f\"The sum of scores ending with zero is: {result}\")"
   ]
  },
  {
   "cell_type": "markdown",
   "metadata": {},
   "source": [
    "### 11) Write a function to invert a given Dictionary.\n",
    "#### hint: keys to values & values to keys\n",
    "#### Before : {'a': 10, 'b':20, 'c':30, 'd':40}\n",
    "#### After : {10:'a', 20:'b', 30:'c', 40:'d'}"
   ]
  },
  {
   "cell_type": "code",
   "execution_count": 16,
   "metadata": {},
   "outputs": [
    {
     "name": "stdout",
     "output_type": "stream",
     "text": [
      "{10: 'a', 20: 'b', 30: 'c', 40: 'd'}\n"
     ]
    }
   ],
   "source": [
    "def invert_dictionary(original_dict):\n",
    "    return {value: key for key, value in original_dict.items()}\n",
    "\n",
    "Before = {'a': 10, 'b':20, 'c':30, 'd':40}\n",
    "print(invert_dictionary(Before))"
   ]
  },
  {
   "cell_type": "markdown",
   "metadata": {},
   "source": [
    "### 12) Write a function to check whether the given string is Pangram or not.\n",
    "#### hint: Pangram is a string containing all the characters a-z atlest once.\n",
    "#### \"the quick brown fox jumps over the lazy dog\" is a Pangram string."
   ]
  },
  {
   "cell_type": "code",
   "execution_count": 20,
   "metadata": {},
   "outputs": [
    {
     "name": "stdin",
     "output_type": "stream",
     "text": [
      "Enter a string:  the quick brown fox jumps over the lazy dog\n"
     ]
    },
    {
     "name": "stdout",
     "output_type": "stream",
     "text": [
      "The string is a pangram.\n"
     ]
    }
   ],
   "source": [
    "def is_pangram(s):\n",
    "    s = s.lower()\n",
    "    alphabet_set = set(\"abcdefghijklmnopqrstuvwxyz\")\n",
    "    return alphabet_set.issubset(set(s))\n",
    "input_string = input(\"Enter a string: \")\n",
    "if is_pangram(input_string):\n",
    "    print(\"The string is a pangram.\")\n",
    "else:\n",
    "    print(\"The string is not a pangram.\")"
   ]
  },
  {
   "cell_type": "markdown",
   "metadata": {},
   "source": [
    "### 13) Write a function that returns the number of uppercase and lowercase letters in the given string. \n",
    "#### example : Input : s1 = AbcDEfgh ,Ouptput : no_upper = 3, no_lower = 5"
   ]
  },
  {
   "cell_type": "code",
   "execution_count": 1,
   "metadata": {},
   "outputs": [
    {
     "name": "stdout",
     "output_type": "stream",
     "text": [
      "no_upper = 3, no_lower = 5\n"
     ]
    }
   ],
   "source": [
    "def count_upper_lower(s):\n",
    "    no_upper = 0\n",
    "    no_lower = 0\n",
    "\n",
    "    for char in s:\n",
    "        if char.isupper():\n",
    "            no_upper += 1\n",
    "        elif char.islower():\n",
    "            no_lower += 1\n",
    "\n",
    "    return no_upper, no_lower\n",
    "\n",
    "# Example usage\n",
    "s1 = \"AbcDEfgh\"\n",
    "upper, lower = count_upper_lower(s1)\n",
    "print(f\"no_upper = {upper}, no_lower = {lower}\")\n"
   ]
  },
  {
   "cell_type": "markdown",
   "metadata": {},
   "source": [
    "### 14) Write a lambda function to get smallest number from the given two numbers."
   ]
  },
  {
   "cell_type": "code",
   "execution_count": 2,
   "metadata": {},
   "outputs": [
    {
     "name": "stdout",
     "output_type": "stream",
     "text": [
      "Smallest Number is:  5\n"
     ]
    }
   ],
   "source": [
    "smallest = lambda a, b : a if a < b else b\n",
    "\n",
    "print(\"Smallest Number is: \" , smallest(10,5))"
   ]
  },
  {
   "cell_type": "markdown",
   "metadata": {},
   "source": [
    "### 15) For the given list of names of students, extract the names having more that 7 characters. Use filter()."
   ]
  },
  {
   "cell_type": "code",
   "execution_count": 3,
   "metadata": {},
   "outputs": [
    {
     "name": "stdout",
     "output_type": "stream",
     "text": [
      "['Vaghasia']\n"
     ]
    }
   ],
   "source": [
    "students = [\"Nirav\" , \"diya\" ,\"Ayush\"  , \"Vaghasia\" , \"Solanki\" , \"Vidisha\" , \"Kruti\"]\n",
    "long_names = list(filter(lambda name: len(name) > 7, students))\n",
    "print(long_names)\n"
   ]
  },
  {
   "cell_type": "markdown",
   "metadata": {},
   "source": [
    "### 16) For the given list of names of students, convert the first letter of all the names into uppercase. use map()."
   ]
  },
  {
   "cell_type": "code",
   "execution_count": 4,
   "metadata": {},
   "outputs": [
    {
     "name": "stdout",
     "output_type": "stream",
     "text": [
      "['Nirav', 'Diya', 'Ayush', 'Vaghasia', 'Solanki', 'Vidisha', 'Kruti']\n"
     ]
    }
   ],
   "source": [
    "students = [\"nirav\" , \"diya\" ,\"ayush\"  , \"vaghasia\" , \"solanki\" , \"vidisha\" , \"kruti\"]\n",
    "\n",
    "new_name = list(map(lambda name: name.capitalize(), students))\n",
    "print(new_name)"
   ]
  },
  {
   "cell_type": "markdown",
   "metadata": {},
   "source": [
    "### 17) Write udfs to call the functions with following types of arguments:\n",
    "1. Positional Arguments\n",
    "2. Keyword Arguments\n",
    "3. Default Arguments\n",
    "4. Variable Legngth Positional(*args) & variable length Keyword Arguments (**kwargs)\n",
    "5. Keyword-Only & Positional Only Arguments"
   ]
  },
  {
   "cell_type": "code",
   "execution_count": 5,
   "metadata": {},
   "outputs": [
    {
     "name": "stdout",
     "output_type": "stream",
     "text": [
      "Positional Arguments: a = 5, b = 10\n",
      "Keyword Arguments: a = 5, b = 10\n",
      "Default Arguments: a = 5, b = 20\n",
      "Default Arguments: a = 5, b = 15\n",
      "Variable-Length Positional Arguments: (1, 2, 3, 4)\n",
      "Variable-Length Keyword Arguments: {'a': 5, 'b': 10, 'c': 15}\n",
      "Keyword-Only Arguments: a = 5, b = 10\n",
      "Positional-Only Arguments: a = 5, b = 10, c = 15\n"
     ]
    }
   ],
   "source": [
    "# positional Arguments\n",
    "def positional_args(a, b):\n",
    "    return f\"Positional Arguments: a = {a}, b = {b}\"\n",
    "\n",
    "\n",
    "print(positional_args(5, 10))\n",
    "\n",
    "#keyword arguments\n",
    "\n",
    "def keyword_args(a, b):\n",
    "    return f\"Keyword Arguments: a = {a}, b = {b}\"\n",
    "print(keyword_args(a=5, b=10))\n",
    "\n",
    "\n",
    "#default argumnets\n",
    "def default_args(a, b=20):\n",
    "    return f\"Default Arguments: a = {a}, b = {b}\"\n",
    "\n",
    "\n",
    "print(default_args(5)) \n",
    "print(default_args(5, 15))  \n",
    "\n",
    "#Variable Legngth Positional(*args) & variable length Keyword Arguments (**kwargs)\n",
    "\n",
    "def variable_positional_args(*args):\n",
    "    return f\"Variable-Length Positional Arguments: {args}\"\n",
    "\n",
    "\n",
    "print(variable_positional_args(1, 2, 3, 4))\n",
    "\n",
    "def variable_keyword_args(**kwargs):\n",
    "    return f\"Variable-Length Keyword Arguments: {kwargs}\"\n",
    "\n",
    "print(variable_keyword_args(a=5, b=10, c=15))\n",
    "\n",
    "\n",
    "#Keyword-Only & Positional Only Arguments\n",
    "\n",
    "def keyword_only_args(*, a, b):\n",
    "    return f\"Keyword-Only Arguments: a = {a}, b = {b}\"\n",
    "\n",
    "print(keyword_only_args(a=5, b=10)) \n",
    "\n",
    "def positional_only_args(a, b, /, c):\n",
    "    return f\"Positional-Only Arguments: a = {a}, b = {b}, c = {c}\"\n",
    "\n",
    "print(positional_only_args(5, 10, c=15)) \n",
    "\n",
    "\n"
   ]
  }
 ],
 "metadata": {
  "kernelspec": {
   "display_name": "Python 3 (ipykernel)",
   "language": "python",
   "name": "python3"
  },
  "language_info": {
   "codemirror_mode": {
    "name": "ipython",
    "version": 3
   },
   "file_extension": ".py",
   "mimetype": "text/x-python",
   "name": "python",
   "nbconvert_exporter": "python",
   "pygments_lexer": "ipython3",
   "version": "3.13.0"
  }
 },
 "nbformat": 4,
 "nbformat_minor": 4
}
