{
 "cells": [
  {
   "cell_type": "markdown",
   "metadata": {},
   "source": [
    "\n",
    "<a href='https://www.darshan.ac.in/'> <img src='https://www.darshan.ac.in/Content/media/DU_Logo.svg' width=\"250\" height=\"300\"/></a>\n",
    "<pre>\n",
    "<center><b><h1>Python Programming - 2301CS404</b></center>\n",
    "<center><b><h1>Lab - 2</b></center>\n",
    "<center><b><h1>Nirav || 23010101286 || B1<center> \n",
    "<pre>"
   ]
  },
  {
   "cell_type": "markdown",
   "metadata": {},
   "source": [
    "# if..else.."
   ]
  },
  {
   "cell_type": "markdown",
   "metadata": {},
   "source": [
    "### 01) WAP to check whether the given number is positive or negative."
   ]
  },
  {
   "cell_type": "code",
   "execution_count": 3,
   "metadata": {},
   "outputs": [
    {
     "name": "stdin",
     "output_type": "stream",
     "text": [
      "Enter a Number:  -3\n"
     ]
    },
    {
     "name": "stdout",
     "output_type": "stream",
     "text": [
      "Number is Negative\n"
     ]
    }
   ],
   "source": [
    "a = int(input(\"Enter a Number: \"))\n",
    "if a > 0:\n",
    "    print(\"Number is Positive\")\n",
    "else:\n",
    "    print(\"Number is Negative\")\n"
   ]
  },
  {
   "cell_type": "markdown",
   "metadata": {},
   "source": [
    "### 02) WAP to check whether the given number is odd or even."
   ]
  },
  {
   "cell_type": "code",
   "execution_count": 4,
   "metadata": {},
   "outputs": [
    {
     "name": "stdin",
     "output_type": "stream",
     "text": [
      "Enter a Number:  5\n"
     ]
    },
    {
     "name": "stdout",
     "output_type": "stream",
     "text": [
      "odd Number\n"
     ]
    }
   ],
   "source": [
    "a = int(input(\"Enter a Number: \"))\n",
    "if a % 2 == 0:\n",
    "    print(\"Even Number\")\n",
    "else:\n",
    "    print(\"odd Number\")"
   ]
  },
  {
   "cell_type": "markdown",
   "metadata": {},
   "source": [
    "### 03) WAP to find out largest number from given two numbers using simple if and ternary operator."
   ]
  },
  {
   "cell_type": "code",
   "execution_count": 11,
   "metadata": {},
   "outputs": [
    {
     "name": "stdin",
     "output_type": "stream",
     "text": [
      "Enter a Number 1:  2\n",
      "Enter a Number 2:  1\n"
     ]
    },
    {
     "name": "stdout",
     "output_type": "stream",
     "text": [
      "First Number is Greater\n"
     ]
    },
    {
     "name": "stdin",
     "output_type": "stream",
     "text": [
      "Enter a Number 1:  3\n",
      "Enter a Number 2:  7\n"
     ]
    },
    {
     "name": "stdout",
     "output_type": "stream",
     "text": [
      "B is Maximum\n"
     ]
    }
   ],
   "source": [
    "#simple if \n",
    "a = int(input(\"Enter a Number 1: \"))\n",
    "b = int(input(\"Enter a Number 2: \"))\n",
    "\n",
    "if a > b:\n",
    "    print(\"First Number is Greater\")\n",
    "else:\n",
    "    print(\"Second Number is Greater\")\n",
    "\n",
    "#ternary\n",
    "\n",
    "a = int(input(\"Enter a Number 1: \"))\n",
    "b = int(input(\"Enter a Number 2: \"))\n",
    "\n",
    "print(\"A is Maximum\") if a > b else print(\"B is Maximum\")"
   ]
  },
  {
   "attachments": {},
   "cell_type": "markdown",
   "metadata": {},
   "source": [
    "### 04) WAP to find out largest number from given three numbers.\n",
    "\n"
   ]
  },
  {
   "cell_type": "code",
   "execution_count": 15,
   "metadata": {},
   "outputs": [
    {
     "name": "stdin",
     "output_type": "stream",
     "text": [
      "Enter a Number 1:  6\n",
      "Enter a Number 2:  5\n",
      "Enter a Number 3:  1\n"
     ]
    },
    {
     "name": "stdout",
     "output_type": "stream",
     "text": [
      "A is Greater\n"
     ]
    }
   ],
   "source": [
    "a = int(input(\"Enter a Number 1: \"))\n",
    "b = int(input(\"Enter a Number 2: \"))\n",
    "c = int(input(\"Enter a Number 3: \"))\n",
    "\n",
    "if a > b:\n",
    "    if a > c:\n",
    "        print(\"A is Greater\")\n",
    "    else:\n",
    "        print(\"C is Greater\")\n",
    "elif b > c:\n",
    "    print(\"B is Greater\")\n",
    "else:\n",
    "    print(\"C is Greater\")"
   ]
  },
  {
   "cell_type": "markdown",
   "metadata": {},
   "source": [
    "### 05) WAP to check whether the given year is leap year or not.\n",
    "[If a year can be divisible by 4 but not divisible by 100 then it is leap year but if it is divisible by 400 then it is leap year]"
   ]
  },
  {
   "cell_type": "code",
   "execution_count": 27,
   "metadata": {},
   "outputs": [
    {
     "name": "stdin",
     "output_type": "stream",
     "text": [
      "Enter a Year:  2020\n"
     ]
    },
    {
     "name": "stdout",
     "output_type": "stream",
     "text": [
      "It is a Leap Year\n"
     ]
    }
   ],
   "source": [
    "a = int(input(\"Enter a Year: \"))\n",
    "if (a % 4 == 0 and a % 100 != 0) or (a % 400 == 0):\n",
    "    print(\"It is a Leap Year\")\n",
    "else:\n",
    "    print(\"Not Leap Year\")"
   ]
  },
  {
   "cell_type": "markdown",
   "metadata": {},
   "source": [
    "### 06) WAP in python to display the name of the day according to the number given by the user."
   ]
  },
  {
   "cell_type": "code",
   "execution_count": 26,
   "metadata": {},
   "outputs": [
    {
     "name": "stdin",
     "output_type": "stream",
     "text": [
      "Enter a Day Number:  5\n"
     ]
    },
    {
     "name": "stdout",
     "output_type": "stream",
     "text": [
      "Friday\n"
     ]
    }
   ],
   "source": [
    "a = int(input(\"Enter a Day Number: \"))\n",
    "match a:\n",
    "    case 1:\n",
    "        print(\"Monday\")\n",
    "    case 2:\n",
    "        print(\"Tuesday\")\n",
    "    case 3:\n",
    "        print(\"Wednesday\")\n",
    "    case 4:\n",
    "        print(\"Thursday\")\n",
    "    case 5:\n",
    "        print(\"Friday\")\n",
    "    case 6:\n",
    "        print(\"Saturday\")\n",
    "    case 7:\n",
    "        print(\"Sunday\")\n",
    "    case _:\n",
    "        print(\"Enter a Valid Number\")\n"
   ]
  },
  {
   "cell_type": "markdown",
   "metadata": {},
   "source": [
    "### 07) WAP to implement simple calculator which performs (add,sub,mul,div) of two no. based on user input."
   ]
  },
  {
   "cell_type": "code",
   "execution_count": 32,
   "metadata": {},
   "outputs": [
    {
     "name": "stdin",
     "output_type": "stream",
     "text": [
      "Enter a First Number:  2\n",
      "Enter a Second Number:  3\n",
      "Enter a number 1 for + , 2 for - , 3 for * , 4 for /  2\n"
     ]
    },
    {
     "name": "stdout",
     "output_type": "stream",
     "text": [
      "Substraction of the Two number is:  -1.0\n"
     ]
    }
   ],
   "source": [
    "a = float(input(\"Enter a First Number: \"))\n",
    "b = float(input(\"Enter a Second Number: \"))\n",
    "n = int(input(\"Enter a number 1 for + , 2 for - , 3 for * , 4 for / \"))\n",
    "\n",
    "match n:\n",
    "    case 1:\n",
    "        print(\"Sum of the two number is: \", a+b)\n",
    "    case 2:\n",
    "        print(\"Substraction of the Two number is: \" , a - b)\n",
    "    case 3:\n",
    "        print(\"Multiplication of the Two Number is: \", a * b)\n",
    "    case 4:\n",
    "        print(\"Division of the Two number is: \" , a / b)\n",
    "    case _:\n",
    "        print(\"Enter a Valid Number: \")\n"
   ]
  },
  {
   "cell_type": "markdown",
   "metadata": {},
   "source": [
    "### 08) WAP to read marks of five subjects. Calculate percentage and print class accordingly. \n",
    "Fail below 35 </br>\n",
    "Pass Class between 35 to 45 </br>\n",
    "Second Class</br>\n",
    "between 45 to 60</br>\n",
    "First Class between 60 to 70</br> \n",
    "Distinction if more than 70"
   ]
  },
  {
   "cell_type": "code",
   "execution_count": 36,
   "metadata": {},
   "outputs": [
    {
     "name": "stdout",
     "output_type": "stream",
     "text": [
      "Enter a Mark Out of 100\n"
     ]
    },
    {
     "name": "stdin",
     "output_type": "stream",
     "text": [
      "Enter a Mark of Subject 1: 20\n",
      "Enter a Mark of Subject 2: 20\n",
      "Enter a Mark of Subject 3: 30\n",
      "Enter a Mark of Subject 4: 12\n",
      "Enter a Mark of Subject 5: 34\n"
     ]
    },
    {
     "name": "stdout",
     "output_type": "stream",
     "text": [
      "percentage is:  20.8\n",
      "Fail\n"
     ]
    }
   ],
   "source": [
    "print(\"Enter a Mark Out of 100\")\n",
    "a = int(input(\"Enter a Mark of Subject 1:\"))\n",
    "b = int(input(\"Enter a Mark of Subject 2:\"))\n",
    "c = int(input(\"Enter a Mark of Subject 3:\"))\n",
    "d = int(input(\"Enter a Mark of Subject 4:\"))\n",
    "d = int(input(\"Enter a Mark of Subject 5:\"))\n",
    "\n",
    "sum = a + b + c + d\n",
    "per = (sum / 500) * 100\n",
    "print(\"percentage is: \" , per)\n",
    "\n",
    "if a > 70:\n",
    "    print(\"Distinct class\")\n",
    "elif a >= 60 and a <= 70:\n",
    "    print(\"First class\")\n",
    "elif a >= 45 and a <= 60:\n",
    "    print(\"Second class\")\n",
    "elif a >=35 and a <= 45:\n",
    "    print(\"Pass class\")\n",
    "elif a  < 35:\n",
    "    print(\"Fail\")\n",
    "\n",
    "\n"
   ]
  },
  {
   "cell_type": "markdown",
   "metadata": {},
   "source": [
    "### 09) Three sides of a triangle are entered through the keyboard, WAP to check whether the triangle is isosceles, equilateral, scalene or right-angled triangle."
   ]
  },
  {
   "cell_type": "code",
   "execution_count": 13,
   "metadata": {},
   "outputs": [
    {
     "name": "stdin",
     "output_type": "stream",
     "text": [
      "Enter a first Side:  8\n",
      "Enter a second Side:  6\n",
      "Enter a third Slide:  10\n"
     ]
    },
    {
     "name": "stdout",
     "output_type": "stream",
     "text": [
      "right angle\n"
     ]
    }
   ],
   "source": [
    "a = int(input(\"Enter a first Side: \"))\n",
    "b = int(input(\"Enter a second Side: \"))\n",
    "c = int(input(\"Enter a third Slide: \"))\n",
    "\n",
    "if a == b or b == c or a == c:\n",
    "    print(\"Triangle is isosceles\")\n",
    "\n",
    "if a == b and a == c and b == c:\n",
    "    print(\"Triangle is equilateral\")\n",
    "\n",
    "if a**2 + b**2 == c**2:\n",
    "    print(\"right angle\")\n"
   ]
  },
  {
   "cell_type": "code",
   "execution_count": null,
   "metadata": {},
   "outputs": [],
   "source": []
  },
  {
   "cell_type": "markdown",
   "metadata": {},
   "source": [
    "### 10) WAP to find the second largest number among three user input numbers."
   ]
  },
  {
   "cell_type": "code",
   "execution_count": 14,
   "metadata": {},
   "outputs": [
    {
     "name": "stdin",
     "output_type": "stream",
     "text": [
      "Enter the first number:  10\n",
      "Enter the second number:  32\n",
      "Enter the third number:  43\n"
     ]
    },
    {
     "name": "stdout",
     "output_type": "stream",
     "text": [
      "The second largest number is: 32.0\n"
     ]
    }
   ],
   "source": [
    "\n",
    "num1 = float(input(\"Enter the first number: \"))\n",
    "num2 = float(input(\"Enter the second number: \"))\n",
    "num3 = float(input(\"Enter the third number: \"))\n",
    "\n",
    "# Finding the second largest number\n",
    "if (num1 > num2 and num1 < num3) or (num1 > num3 and num1 < num2):\n",
    "    second_largest = num1\n",
    "elif (num2 > num1 and num2 < num3) or (num2 > num3 and num2 < num1):\n",
    "    second_largest = num2\n",
    "else:\n",
    "    second_largest = num3\n",
    "\n",
    "print(f\"The second largest number is: {second_largest}\")\n"
   ]
  },
  {
   "cell_type": "markdown",
   "metadata": {},
   "source": [
    "### 11) WAP to calculate electricity bill based on following criteria. Which takes the unit from the user.\n",
    "a. First 1 to 50 units – Rs. 2.60/unit</br>\n",
    "b. Next 50 to 100 units – Rs. 3.25/unit</br>\n",
    "c. Next 100 to 200 units – Rs. 5.26/unit</br>\n",
    "d. above 200 units – Rs. 8.45/unit"
   ]
  },
  {
   "cell_type": "code",
   "execution_count": 10,
   "metadata": {},
   "outputs": [
    {
     "name": "stdin",
     "output_type": "stream",
     "text": [
      "Enter a Units:  34\n"
     ]
    },
    {
     "name": "stdout",
     "output_type": "stream",
     "text": [
      "88.4\n"
     ]
    }
   ],
   "source": [
    "a = int(input(\"Enter a Units: \"))\n",
    "\n",
    "if a <= 50:\n",
    "    amount = a * 2.6\n",
    "if a > 50 and a <= 100:\n",
    "    amount = (50 * 2.6 ) + ((a - 50) * 3.25)\n",
    "if a > 100 and  a <= 200:\n",
    "    amount = (50 * 2.6) + (100 * 3.25) + ((a - 150) * 5.26)\n",
    "else:\n",
    "    (50 * 2.6) + (100 * 3.25) + (100 * 5.26) + ((a - 250) * 8.45)\n",
    "\n",
    "print(amount)\n",
    "    "
   ]
  },
  {
   "cell_type": "code",
   "execution_count": null,
   "metadata": {},
   "outputs": [],
   "source": []
  }
 ],
 "metadata": {
  "kernelspec": {
   "display_name": "Python 3 (ipykernel)",
   "language": "python",
   "name": "python3"
  },
  "language_info": {
   "codemirror_mode": {
    "name": "ipython",
    "version": 3
   },
   "file_extension": ".py",
   "mimetype": "text/x-python",
   "name": "python",
   "nbconvert_exporter": "python",
   "pygments_lexer": "ipython3",
   "version": "3.13.0"
  }
 },
 "nbformat": 4,
 "nbformat_minor": 4
}
