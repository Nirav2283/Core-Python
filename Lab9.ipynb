{
 "cells": [
  {
   "cell_type": "markdown",
   "metadata": {},
   "source": [
    "<a href='https://www.darshan.ac.in/'> <img src='https://www.darshan.ac.in/Content/media/DU_Logo.svg' width=\"250\" height=\"300\"/></a>\n",
    "<pre>\n",
    "<center><b><h1>Python Programming - 2301CS404</b></center>\n",
    "<center><b><h1>Lab - 9</b></center> \n",
    "<center><b><h1>Nirav Vaghasia | 23010101286 | CSE-4B (B1-315)</b></center>     \n",
    "<pre>"
   ]
  },
  {
   "cell_type": "markdown",
   "metadata": {},
   "source": [
    "# File I/O"
   ]
  },
  {
   "cell_type": "markdown",
   "metadata": {},
   "source": [
    "### 01) WAP to read and display the contents of a text file. (also try to open the file in some other directory) \n",
    "#### - in the form of a string\n",
    "#### - line by line\n",
    "#### - in the form of a list"
   ]
  },
  {
   "cell_type": "code",
   "execution_count": 1,
   "metadata": {},
   "outputs": [
    {
     "name": "stdout",
     "output_type": "stream",
     "text": [
      "File Content as String:\n",
      "hello world\n",
      "Nirav Vaghasia\n",
      "\n",
      "File Content Line by Line:\n",
      "hello world\n",
      "Nirav Vaghasia\n",
      "\n",
      "File Content as List:\n",
      "['hello world\\n', 'Nirav Vaghasia']\n"
     ]
    }
   ],
   "source": [
    "\n",
    "\n",
    "with open('abc.txt', 'r') as file:\n",
    "    content_as_string = file.read()\n",
    "    print(\"File Content as String:\")\n",
    "    print(content_as_string)\n",
    "\n",
    "\n",
    "with open('abc.txt', 'r') as file:\n",
    "    print(\"\\nFile Content Line by Line:\")\n",
    "    for line in file:\n",
    "        print(line.strip())\n",
    "\n",
    "\n",
    "with open('abc.txt', 'r') as file:\n",
    "    content_as_list = file.readlines()\n",
    "    print(\"\\nFile Content as List:\")\n",
    "    print(content_as_list)\n",
    "\n",
    "\n"
   ]
  },
  {
   "cell_type": "markdown",
   "metadata": {},
   "source": [
    "### 02) WAP to create file named \"new.txt\" only if it doesn't exist."
   ]
  },
  {
   "cell_type": "code",
   "execution_count": 2,
   "metadata": {},
   "outputs": [
    {
     "name": "stdout",
     "output_type": "stream",
     "text": [
      "The file new.txt is already exist\n"
     ]
    }
   ],
   "source": [
    "try:\n",
    "    with open('new.txt','x') as fp:\n",
    "        print('Successfully Created new.txt') \n",
    "except FileExistsError:\n",
    "    print('The file new.txt is already exist')"
   ]
  },
  {
   "cell_type": "markdown",
   "metadata": {},
   "source": [
    "### 03) WAP to read first 5 lines from the text file."
   ]
  },
  {
   "cell_type": "code",
   "execution_count": 3,
   "metadata": {},
   "outputs": [
    {
     "name": "stdout",
     "output_type": "stream",
     "text": [
      "File I/O in Python\n",
      "The read() method reads all content.\n",
      "Use readline() to read one line.\n",
      "readlines() returns all lines as a list.\n",
      "Close files with close() or use with for auto-closing."
     ]
    }
   ],
   "source": [
    "fp = open('new.txt')\n",
    "for i in range(5):\n",
    "    print(fp.readline(),end=\"\")"
   ]
  },
  {
   "cell_type": "markdown",
   "metadata": {},
   "source": [
    "### 04) WAP to find the longest word(s) in a file"
   ]
  },
  {
   "cell_type": "code",
   "execution_count": 9,
   "metadata": {},
   "outputs": [
    {
     "name": "stdout",
     "output_type": "stream",
     "text": [
      "Longest-Word: auto-closing.\n"
     ]
    }
   ],
   "source": [
    "fp = open('new.txt')\n",
    "content = fp.read()\n",
    "li = content.split()\n",
    "longest = li[0]\n",
    "for i in li:\n",
    "    if len(i) > len(longest):\n",
    "        longest = i\n",
    "print('Longest-Word:',longest)\n",
    "fp.close()"
   ]
  },
  {
   "cell_type": "markdown",
   "metadata": {},
   "source": [
    "### 05) WAP to count the no. of lines, words and characters in a given text file."
   ]
  },
  {
   "cell_type": "code",
   "execution_count": 10,
   "metadata": {},
   "outputs": [
    {
     "name": "stdout",
     "output_type": "stream",
     "text": [
      "No.of lines: 5\n",
      "No.of Total Words: 32\n",
      "No.of Total characters: 184\n"
     ]
    }
   ],
   "source": [
    "fp = open('new.txt')\n",
    "\n",
    "lines = fp.readlines()\n",
    "print('No.of lines:',len(lines))\n",
    "fp.seek(0,0)\n",
    "print('No.of Total Words:',len(fp.read().split()))\n",
    "fp.seek(0,0)\n",
    "print('No.of Total characters:',len(fp.read()))"
   ]
  },
  {
   "cell_type": "markdown",
   "metadata": {},
   "source": [
    "### 06) WAP to copy the content of a file to the another file."
   ]
  },
  {
   "cell_type": "code",
   "execution_count": 15,
   "metadata": {},
   "outputs": [
    {
     "name": "stdout",
     "output_type": "stream",
     "text": [
      "Content copied successfully in file- Copy.txt\n"
     ]
    }
   ],
   "source": [
    "fp1 = open('new.txt')\n",
    "content = fp1.read()\n",
    "\n",
    "fp2 = open('copy.txt','w')\n",
    "\n",
    "fp2.write(content)\n",
    "print(\"Content copied successfully in file- Copy.txt\")"
   ]
  },
  {
   "cell_type": "markdown",
   "metadata": {},
   "source": [
    "### 07) WAP to find the size of the text file. "
   ]
  },
  {
   "cell_type": "code",
   "execution_count": 16,
   "metadata": {},
   "outputs": [
    {
     "name": "stdout",
     "output_type": "stream",
     "text": [
      "No.of Characters: 184\n"
     ]
    }
   ],
   "source": [
    "fp = open('new.txt')\n",
    "print('No.of Characters:',len(fp.read()))"
   ]
  },
  {
   "cell_type": "markdown",
   "metadata": {},
   "source": [
    "### 08) WAP to create an UDF named frequency to count occurances of the specific word in a given text file."
   ]
  },
  {
   "cell_type": "code",
   "execution_count": 19,
   "metadata": {},
   "outputs": [
    {
     "data": {
      "text/plain": [
       "1"
      ]
     },
     "execution_count": 19,
     "metadata": {},
     "output_type": "execute_result"
    }
   ],
   "source": [
    "def frequency(word):\n",
    "        fp = open('new.txt')\n",
    "        data = fp.read().split()\n",
    "        words = data.count(word)\n",
    "        return words\n",
    "        fp.close()\n",
    "frequency('Use')"
   ]
  },
  {
   "cell_type": "markdown",
   "metadata": {},
   "source": [
    "### 09) WAP to get the score of five subjects from the user, store them in a file. Fetch those marks and find the highest score."
   ]
  },
  {
   "cell_type": "code",
   "execution_count": 22,
   "metadata": {},
   "outputs": [
    {
     "name": "stdin",
     "output_type": "stream",
     "text": [
      "Enter Marks of Subject-1: 30\n",
      "Enter Marks of Subject-2: 59\n",
      "Enter Marks of Subject-3: 23\n",
      "Enter Marks of Subject-4: 23\n",
      "Enter Marks of Subject-5: 23\n"
     ]
    },
    {
     "name": "stdout",
     "output_type": "stream",
     "text": [
      "Marks Stored Successfully in Marks.txt file\n",
      "30\n",
      "59\n",
      "23\n",
      "23\n",
      "23\n",
      "\n",
      "Highest Marks: 59\n"
     ]
    }
   ],
   "source": [
    "Marks = []\n",
    "for i in range(1,6):\n",
    "    mark = int(input(f'Enter Marks of Subject-{i}:'))\n",
    "    Marks.append(mark)\n",
    "# print(Marks)\n",
    "    \n",
    "fp = open('Marks.txt','w')\n",
    "for i in Marks:\n",
    "    fp.write(str(i)+'\\n')\n",
    "print('Marks Stored Successfully in Marks.txt file')\n",
    "fp.close()\n",
    "\n",
    "\n",
    "fp = open('Marks.txt')\n",
    "marks = fp.read()\n",
    "print(marks)\n",
    "li = marks.split()\n",
    "print('Highest Marks:',max(li))\n",
    "fp.close()"
   ]
  },
  {
   "cell_type": "markdown",
   "metadata": {},
   "source": [
    "### 10) WAP to write first 100 prime numbers to a file named primenumbers.txt \n",
    "(Note: each number should be in new line)"
   ]
  },
  {
   "cell_type": "code",
   "execution_count": 23,
   "metadata": {},
   "outputs": [
    {
     "name": "stdout",
     "output_type": "stream",
     "text": [
      "100 Prime Numbers are Written Successfully in primenumbers.txt\n"
     ]
    }
   ],
   "source": [
    "primes = []\n",
    "n = 2\n",
    "\n",
    "while len(primes) < 100:\n",
    "    is_prime = True\n",
    "    for i in range(2,int(n/2)+1):\n",
    "         if n % i == 0:\n",
    "                is_prime = False\n",
    "                break \n",
    "    if is_prime:\n",
    "         primes.append(n)\n",
    "    n += 1   \n",
    "# print(primes)\n",
    "\n",
    "fp = open('primenumbers.txt','w')\n",
    "for i in primes:\n",
    "    fp.write(str(i)+'\\n')\n",
    "fp.close()\n",
    "print('100 Prime Numbers are Written Successfully in primenumbers.txt')"
   ]
  },
  {
   "cell_type": "markdown",
   "metadata": {},
   "source": [
    "### 11) WAP to merge two files and write it in a new file."
   ]
  },
  {
   "cell_type": "code",
   "execution_count": 24,
   "metadata": {},
   "outputs": [
    {
     "name": "stdout",
     "output_type": "stream",
     "text": [
      "Successfully Merged!\n"
     ]
    }
   ],
   "source": [
    "with open('new.txt') as fp1:\n",
    "    data1 = fp1.read()\n",
    "with open('Marks.txt') as fp2:\n",
    "    data2 = fp2.read()\n",
    "with open('merged.txt','w') as fp3:\n",
    "    fp3.write(data1 + data2)\n",
    "print('Successfully Merged!')"
   ]
  },
  {
   "cell_type": "markdown",
   "metadata": {},
   "source": [
    "### 12) WAP to replace word1 by word2 of a text file. Write the updated data to new file."
   ]
  },
  {
   "cell_type": "code",
   "execution_count": 25,
   "metadata": {},
   "outputs": [
    {
     "name": "stdout",
     "output_type": "stream",
     "text": [
      "Updated data written in new.txt\n"
     ]
    }
   ],
   "source": [
    "with open('new.txt') as fp1:\n",
    "    data = fp1.read().replace('Close','Open')\n",
    "with open('marks.txt','w') as fp2:\n",
    "    fp2.write(data)\n",
    "print('Updated data written in new.txt')"
   ]
  },
  {
   "cell_type": "markdown",
   "metadata": {},
   "source": [
    "### 13) Demonstrate tell() and seek() for all the cases(seek from beginning-end-current position) taking a suitable example of your choice."
   ]
  },
  {
   "cell_type": "code",
   "execution_count": 26,
   "metadata": {},
   "outputs": [
    {
     "name": "stdout",
     "output_type": "stream",
     "text": [
      "Initial Position: 0\n",
      "Position after reading 10 characters: 10\n",
      "Position after seeking to the beginning: 0\n"
     ]
    },
    {
     "ename": "UnsupportedOperation",
     "evalue": "can't do nonzero cur-relative seeks",
     "output_type": "error",
     "traceback": [
      "\u001b[1;31m---------------------------------------------------------------------------\u001b[0m",
      "\u001b[1;31mUnsupportedOperation\u001b[0m                      Traceback (most recent call last)",
      "Cell \u001b[1;32mIn[26], line 10\u001b[0m\n\u001b[0;32m      7\u001b[0m file\u001b[38;5;241m.\u001b[39mseek(\u001b[38;5;241m0\u001b[39m)\n\u001b[0;32m      8\u001b[0m \u001b[38;5;28mprint\u001b[39m(\u001b[38;5;124mf\u001b[39m\u001b[38;5;124m\"\u001b[39m\u001b[38;5;124mPosition after seeking to the beginning: \u001b[39m\u001b[38;5;132;01m{\u001b[39;00mfile\u001b[38;5;241m.\u001b[39mtell()\u001b[38;5;132;01m}\u001b[39;00m\u001b[38;5;124m\"\u001b[39m)\n\u001b[1;32m---> 10\u001b[0m \u001b[43mfile\u001b[49m\u001b[38;5;241;43m.\u001b[39;49m\u001b[43mseek\u001b[49m\u001b[43m(\u001b[49m\u001b[38;5;241;43m5\u001b[39;49m\u001b[43m,\u001b[49m\u001b[43m \u001b[49m\u001b[38;5;241;43m1\u001b[39;49m\u001b[43m)\u001b[49m\n\u001b[0;32m     11\u001b[0m \u001b[38;5;28mprint\u001b[39m(\u001b[38;5;124mf\u001b[39m\u001b[38;5;124m\"\u001b[39m\u001b[38;5;124mPosition after seeking 5 characters from the current position: \u001b[39m\u001b[38;5;132;01m{\u001b[39;00mfile\u001b[38;5;241m.\u001b[39mtell()\u001b[38;5;132;01m}\u001b[39;00m\u001b[38;5;124m\"\u001b[39m)\n\u001b[0;32m     13\u001b[0m file\u001b[38;5;241m.\u001b[39mseek(\u001b[38;5;241m-\u001b[39m\u001b[38;5;241m10\u001b[39m, \u001b[38;5;241m2\u001b[39m)\n",
      "\u001b[1;31mUnsupportedOperation\u001b[0m: can't do nonzero cur-relative seeks"
     ]
    }
   ],
   "source": [
    "\n",
    "\n",
    "with open('new.txt', 'r') as file:\n",
    "    print(f\"Initial Position: {file.tell()}\")\n",
    "    \n",
    "    file.read(10)\n",
    "    print(f\"Position after reading 10 characters: {file.tell()}\")\n",
    "\n",
    "    file.seek(0)\n",
    "    print(f\"Position after seeking to the beginning: {file.tell()}\")\n",
    "\n",
    "    file.seek(5, 1)\n",
    "    print(f\"Position after seeking 5 characters from the current position: {file.tell()}\")\n",
    "\n",
    "    file.seek(-10, 2)\n",
    "    print(f\"Position after seeking 10 characters from the end: {file.tell()}\")\n",
    "\n",
    "    file.seek(0)\n",
    "    print(f\"Position after resetting to the beginning: {file.tell()}\")\n",
    "\n",
    "    content = file.read()\n",
    "    print(f\"Final content read: {content}\")\n"
   ]
  },
  {
   "cell_type": "code",
   "execution_count": null,
   "metadata": {},
   "outputs": [],
   "source": []
  }
 ],
 "metadata": {
  "kernelspec": {
   "display_name": "Python 3 (ipykernel)",
   "language": "python",
   "name": "python3"
  },
  "language_info": {
   "codemirror_mode": {
    "name": "ipython",
    "version": 3
   },
   "file_extension": ".py",
   "mimetype": "text/x-python",
   "name": "python",
   "nbconvert_exporter": "python",
   "pygments_lexer": "ipython3",
   "version": "3.13.0"
  }
 },
 "nbformat": 4,
 "nbformat_minor": 4
}
